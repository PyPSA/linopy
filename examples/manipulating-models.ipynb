{
 "cells": [
  {
   "cell_type": "markdown",
   "id": "37a85c22",
   "metadata": {},
   "source": [
    "# Modifying Models\n",
    "\n",
    "Given a model that is already built and possibly optimized, the user might want to modify single constraint or variable bounds by means of correction or exploration of the feasible space. \n",
    "\n",
    "In the following we show how single elements can be tweaked or rewritten. Let's start with the simple model of the `Getting Started` section. "
   ]
  },
  {
   "cell_type": "code",
   "execution_count": null,
   "id": "16a41836",
   "metadata": {},
   "outputs": [],
   "source": [
    "import pandas as pd\n",
    "import xarray as xr\n",
    "\n",
    "import linopy"
   ]
  },
  {
   "cell_type": "code",
   "execution_count": null,
   "id": "8f4d182f",
   "metadata": {},
   "outputs": [],
   "source": [
    "m = linopy.Model()\n",
    "time = pd.Index(range(10), name=\"time\")\n",
    "\n",
    "x = m.add_variables(\n",
    "    lower=0,\n",
    "    coords=[time],\n",
    "    name=\"x\",\n",
    ")\n",
    "y = m.add_variables(lower=0, coords=[time], name=\"y\")\n",
    "\n",
    "factor = pd.Series(time, index=time)\n",
    "\n",
    "con1 = m.add_constraints(3 * x + 7 * y >= 10 * factor, name=\"con1\")\n",
    "con2 = m.add_constraints(5 * x + 2 * y >= 3 * factor, name=\"con2\")\n",
    "\n",
    "m.add_objective(x + 2 * y)\n",
    "m.solve()\n",
    "\n",
    "m.solve()\n",
    "sol = m.solution.to_dataframe()\n",
    "sol.plot(grid=True, ylabel=\"Optimal Value\")"
   ]
  },
  {
   "cell_type": "markdown",
   "id": "d3f4b966",
   "metadata": {},
   "source": [
    "The figure above shows the optimal values of `x(t)` and `y(t)`. \n",
    "\n",
    "## Varying lower and upper bounds\n",
    "\n",
    "Now, let's say we want to set the lower bound of `y(t)` to 1. This would translate to:"
   ]
  },
  {
   "cell_type": "code",
   "execution_count": null,
   "id": "f7db57f8",
   "metadata": {},
   "outputs": [],
   "source": [
    "x.lower = 1"
   ]
  },
  {
   "cell_type": "markdown",
   "id": "66b8be86",
   "metadata": {},
   "source": [
    ".. note::\n",
    "   The same could have been achieved by calling `m.variables.x.lower = 1`\n",
    "\n",
    "Let's solve it again!"
   ]
  },
  {
   "cell_type": "code",
   "execution_count": null,
   "id": "c37add87",
   "metadata": {},
   "outputs": [],
   "source": [
    "m.solve()\n",
    "sol = m.solution.to_dataframe()\n",
    "sol.plot(grid=True, ylabel=\"Optimal Value\")"
   ]
  },
  {
   "cell_type": "code",
   "execution_count": null,
   "id": "b5be8d00",
   "metadata": {},
   "outputs": [],
   "source": [
    "sol"
   ]
  },
  {
   "cell_type": "markdown",
   "id": "d35e3309",
   "metadata": {},
   "source": [
    "We see that the new lower bound of x is binding across all time steps.\n",
    "\n",
    "Of course the implementation is flexible over the dimensions, so we can pass non-scalar values:"
   ]
  },
  {
   "cell_type": "code",
   "execution_count": null,
   "id": "451aba93",
   "metadata": {},
   "outputs": [],
   "source": [
    "x.lower = xr.DataArray(range(10, 0, -1), coords=(time,))"
   ]
  },
  {
   "cell_type": "code",
   "execution_count": null,
   "id": "e25f26a1",
   "metadata": {},
   "outputs": [],
   "source": [
    "m.solve()\n",
    "sol = m.solution.to_dataframe()\n",
    "sol.plot(grid=True, ylabel=\"Optimal Value\")"
   ]
  },
  {
   "cell_type": "markdown",
   "id": "4d991939",
   "metadata": {},
   "source": [
    "You can manipulate the upper bound of a variable in the same way."
   ]
  },
  {
   "cell_type": "markdown",
   "id": "de29c28e",
   "metadata": {},
   "source": [
    "## Varying Constraints\n",
    "\n",
    "A similar functionality is implemented for constraints. Here we can modify the left-hand-side, the sign and the right-hand-side.\n",
    "\n",
    "Assume we want to relax the right-hand-side of the first constraint `con1` to `8 * factor`. This would translate to:"
   ]
  },
  {
   "cell_type": "code",
   "execution_count": null,
   "id": "18d1bf4b",
   "metadata": {},
   "outputs": [],
   "source": [
    "con1.rhs = 8 * factor"
   ]
  },
  {
   "cell_type": "markdown",
   "id": "5499b3b4",
   "metadata": {},
   "source": [
    ".. note::\n",
    "   The same could have been achieved by calling `m.variables.con1.rhs = 8 * factor`\n",
    "\n",
    "Let's solve it again!"
   ]
  },
  {
   "cell_type": "code",
   "execution_count": null,
   "id": "e4d34142",
   "metadata": {},
   "outputs": [],
   "source": [
    "m.solve()\n",
    "sol = m.solution.to_dataframe()\n",
    "sol.plot(grid=True, ylabel=\"Optimal Value\")"
   ]
  },
  {
   "cell_type": "markdown",
   "id": "bc683e13",
   "metadata": {},
   "source": [
    "In contrast to previous figure, we now see that the optimal value of `y` does not reach values above 10 in the end. \n",
    "\n",
    "In the same way, we can modify the left-hand-side. Assume we want to weight `y` with a coefficient of 8 in the constraints, this gives"
   ]
  },
  {
   "cell_type": "code",
   "execution_count": null,
   "id": "f8e81d20",
   "metadata": {},
   "outputs": [],
   "source": [
    "con1.lhs = 3 * x + 8 * y"
   ]
  },
  {
   "cell_type": "markdown",
   "id": "cc377d95",
   "metadata": {},
   "source": [
    "**Note:**\n",
    "The same could have been achieved by calling \n",
    "```python \n",
    "m.constraints['con1'].lhs = 3 * x + 8 * y\n",
    "```"
   ]
  },
  {
   "cell_type": "markdown",
   "id": "633d463b",
   "metadata": {},
   "source": [
    "which leads to"
   ]
  },
  {
   "cell_type": "code",
   "execution_count": null,
   "id": "9b73250d",
   "metadata": {},
   "outputs": [],
   "source": [
    "m.solve()\n",
    "sol = m.solution.to_dataframe()\n",
    "sol.plot(grid=True, ylabel=\"Optimal Value\")"
   ]
  },
  {
   "cell_type": "markdown",
   "id": "e509d5d7",
   "metadata": {},
   "source": [
    "## Varying the objective \n",
    "\n",
    "Varying the objective happens in the same way as for the left-hand-side of the constraint as it is a linear expression too. Note, when passing an unstacked linear expression, i.e. an expression with more than the `_term` dimension, `linopy` will automatically stack it. \n",
    "\n",
    "So assume, we would like to modify the weight of `y` in the objective function, this translates to:"
   ]
  },
  {
   "cell_type": "code",
   "execution_count": null,
   "id": "44689b5b",
   "metadata": {},
   "outputs": [],
   "source": [
    "m.objective = x + 3 * y"
   ]
  },
  {
   "cell_type": "code",
   "execution_count": null,
   "id": "2144af8e",
   "metadata": {},
   "outputs": [],
   "source": [
    "m.solve()\n",
    "sol = m.solution.to_dataframe()\n",
    "sol.plot(grid=True, ylabel=\"Optimal Value\")"
   ]
  },
  {
   "cell_type": "markdown",
   "id": "f1faa095",
   "metadata": {},
   "source": [
    "As a consequence, `y` stays at zero for all time steps."
   ]
  },
  {
   "cell_type": "code",
   "execution_count": null,
   "id": "85cbd60b",
   "metadata": {},
   "outputs": [],
   "source": [
    "m.objective"
   ]
  }
 ],
 "metadata": {
  "@webio": {
   "lastCommId": null,
   "lastKernelId": null
  },
  "kernelspec": {
   "display_name": "Python 3",
   "language": "python",
   "name": "python3"
  },
  "language_info": {
   "codemirror_mode": {
    "name": "ipython",
    "version": 3
   },
   "file_extension": ".py",
   "mimetype": "text/x-python",
   "name": "python",
   "nbconvert_exporter": "python",
   "pygments_lexer": "ipython3",
   "version": "3.11.3"
  }
 },
 "nbformat": 4,
 "nbformat_minor": 5
}
