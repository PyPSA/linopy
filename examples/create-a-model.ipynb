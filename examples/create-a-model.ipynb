{
 "cells": [
  {
   "attachments": {},
   "cell_type": "markdown",
   "id": "4db583af",
   "metadata": {},
   "source": [
    "# Solve a Basic Model\n",
    "\n",
    "In this example, we explain the basic functions of the linopy `Model` class. First, we are setting up a very simple linear optimization model, given by "
   ]
  },
  {
   "attachments": {},
   "cell_type": "markdown",
   "id": "together-ocean",
   "metadata": {},
   "source": [
    "Minimize:\n",
    "$$ x + 2y $$\n",
    "      \n",
    "subject to:\n",
    "\n",
    "$$ x \\ge 0 $$\n",
    "$$y \\ge 0 $$\n",
    "$$3x + 7y \\ge 10 $$\n",
    "$$5x + 2y \\ge 3 $$"
   ]
  },
  {
   "cell_type": "code",
   "execution_count": null,
   "id": "dramatic-cannon",
   "metadata": {},
   "outputs": [],
   "source": []
  },
  {
   "attachments": {},
   "cell_type": "markdown",
   "id": "43949d36",
   "metadata": {},
   "source": [
    "### Initializing a `Model`\n",
    "\n",
    "The Model class in Linopy is a fundamental part of the library. It serves as a container for all the relevant data associated with a linear optimization problem. This includes variables, constraints, and the objective function."
   ]
  },
  {
   "cell_type": "code",
   "execution_count": null,
   "id": "technical-conducting",
   "metadata": {},
   "outputs": [],
   "source": [
    "from linopy import Model\n",
    "\n",
    "m = Model()"
   ]
  },
  {
   "attachments": {},
   "cell_type": "markdown",
   "id": "e5b16d53",
   "metadata": {},
   "source": [
    "This creates a new Model object, which you can then use to define your optimization problem."
   ]
  },
  {
   "attachments": {},
   "cell_type": "markdown",
   "id": "rolled-delicious",
   "metadata": {},
   "source": [
    "\n",
    "\n",
    "### Adding variables\n",
    "\n",
    "Variables in a linear optimization problem represent the decision variables. A variable can always be assigned with a lower and an upper bound. In our case, both `x` and `y` have a lower bound of zero (default is unbouded). In Linopy, you can add variables to a Model using the `add_variables` method:"
   ]
  },
  {
   "cell_type": "code",
   "execution_count": null,
   "id": "protecting-power",
   "metadata": {},
   "outputs": [],
   "source": [
    "x = m.add_variables(lower=0, name=\"x\")\n",
    "y = m.add_variables(lower=0, name=\"y\");"
   ]
  },
  {
   "attachments": {},
   "cell_type": "markdown",
   "id": "featured-maria",
   "metadata": {},
   "source": [
    "`x` and `y` are linopy variables of the class `linopy.Variable`. Each of them contain all relevant information that define it. The `name` parameter is optional but can be useful for referencing the variables later."
   ]
  },
  {
   "cell_type": "code",
   "execution_count": null,
   "id": "virtual-anxiety",
   "metadata": {},
   "outputs": [],
   "source": [
    "x"
   ]
  },
  {
   "attachments": {},
   "cell_type": "markdown",
   "id": "sonic-rebate",
   "metadata": {},
   "source": [
    "Since both `x` and `y` are scalar variables (meaning they don't have any dimensions), their underlying data contain only one optimization variable each.  \n",
    "\n",
    "### Adding Constraints\n",
    "\n",
    "Constraints define the feasible region of the optimization problem. They consist of the left hand side (lhs) and the right hand side (rhs). The first constraint that we want to write down is \n",
    "$3x + 7y >= 10$, which we write out exactly in the mathematical way"
   ]
  },
  {
   "cell_type": "code",
   "execution_count": null,
   "id": "fbb46cad",
   "metadata": {},
   "outputs": [],
   "source": [
    "3 * x + 7 * y >= 10"
   ]
  },
  {
   "attachments": {},
   "cell_type": "markdown",
   "id": "f4666bee",
   "metadata": {},
   "source": [
    "Note, we can also mix the constant and the variable expression, like this"
   ]
  },
  {
   "cell_type": "code",
   "execution_count": null,
   "id": "60f41b76",
   "metadata": {},
   "outputs": [],
   "source": [
    "3 * x + 7 * y - 10 >= 0"
   ]
  },
  {
   "attachments": {},
   "cell_type": "markdown",
   "id": "02abd938",
   "metadata": {},
   "source": [
    "... and linopy will automatically take over the separation of variables expression on the lhs, and constant values on the rhs.\n",
    "\n",
    "The constraint is currently not assigned to the model. We assign it by calling the function `m.add_constraints`."
   ]
  },
  {
   "cell_type": "code",
   "execution_count": null,
   "id": "hollywood-production",
   "metadata": {},
   "outputs": [],
   "source": [
    "m.add_constraints(3 * x + 7 * y >= 10)\n",
    "m.add_constraints(5 * x + 2 * y >= 3);"
   ]
  },
  {
   "attachments": {},
   "cell_type": "markdown",
   "id": "global-maple",
   "metadata": {},
   "source": [
    "## Adding the Objective \n",
    "\n",
    "The objective function defines what you want to optimize. You can set the objective function of a Model in Linopy using the add_objective method. For our example that would be"
   ]
  },
  {
   "cell_type": "code",
   "execution_count": null,
   "id": "overall-exhibition",
   "metadata": {},
   "outputs": [],
   "source": [
    "m.add_objective(x + 2 * y)"
   ]
  },
  {
   "attachments": {},
   "cell_type": "markdown",
   "id": "6f9692aa",
   "metadata": {},
   "source": [
    "## Solving the Model\n",
    "\n",
    "Once you've defined your Model with variables, constraints, and an objective function, you can solve it using the `solve` method:"
   ]
  },
  {
   "cell_type": "code",
   "execution_count": null,
   "id": "pressing-copying",
   "metadata": {},
   "outputs": [],
   "source": [
    "m.solve()"
   ]
  },
  {
   "attachments": {},
   "cell_type": "markdown",
   "id": "preceding-limit",
   "metadata": {},
   "source": [
    "The solution of the linear problem assigned to the variables under `solution` in form of a `xarray.Dataset`. "
   ]
  },
  {
   "cell_type": "code",
   "execution_count": null,
   "id": "electric-duration",
   "metadata": {},
   "outputs": [],
   "source": [
    "x.solution"
   ]
  },
  {
   "cell_type": "code",
   "execution_count": null,
   "id": "e6d31751",
   "metadata": {},
   "outputs": [],
   "source": [
    "y.solution"
   ]
  },
  {
   "attachments": {},
   "cell_type": "markdown",
   "id": "e296f641",
   "metadata": {},
   "source": [
    "Well done! You solved your first linopy model!"
   ]
  }
 ],
 "metadata": {
  "@webio": {
   "lastCommId": null,
   "lastKernelId": null
  },
  "kernelspec": {
   "display_name": "Python 3",
   "language": "python",
   "name": "python3"
  },
  "language_info": {
   "codemirror_mode": {
    "name": "ipython",
    "version": 3
   },
   "file_extension": ".py",
   "mimetype": "text/x-python",
   "name": "python",
   "nbconvert_exporter": "python",
   "pygments_lexer": "ipython3",
   "version": "3.11.3"
  }
 },
 "nbformat": 4,
 "nbformat_minor": 5
}
