{
 "cells": [
  {
   "cell_type": "markdown",
   "metadata": {},
   "source": [
    "# Sudoku Solver with Linopy\n",
    "\n",
    "The linopy package is good at tracking indices and writing optimization problems as vectorized functions (i.e., functions that operate on all rows of a column at once).  This notebook adapts the Medium article [Creating Sudoku Solver with Python and Pyomo in Easy Steps](https://medium.com/@dhanalakotamohan314/creating-sudoku-solver-with-python-and-pyomo-in-easy-steps-fe22ec916090) by Dhanalakota Mohan for linopy to demonstrate how indices (i.e., dimensions and coordinates) work."
   ]
  },
  {
   "cell_type": "code",
   "execution_count": null,
   "metadata": {},
   "outputs": [],
   "source": [
    "import numpy as np\n",
    "import pandas as pd\n",
    "import xarray as xr\n",
    "\n",
    "import linopy\n",
    "\n",
    "pd.options.display.float_format = \"{:.0f}\".format\n",
    "import matplotlib.pyplot as plt\n",
    "from mpl_toolkits.mplot3d.art3d import Poly3DCollection"
   ]
  },
  {
   "cell_type": "markdown",
   "metadata": {},
   "source": [
    "# The Puzzle\n",
    "\n",
    "Sudoku is a 9x9 grid where each of digits 1 through 9 appears once and only once in each row, columns, and 3x3 grid.  The puzzle is initiated with a values in some of the rows and columns, which I'm calling hints.  Here is an example Sudoku puzzle with hints as a Pandas dataframe.  "
   ]
  },
  {
   "cell_type": "code",
   "execution_count": null,
   "metadata": {},
   "outputs": [],
   "source": [
    "# look at the hints for the puzzle\n",
    "puzzle_hints = [\n",
    "    (1, 7, 2),\n",
    "    (2, 2, 8),\n",
    "    (2, 6, 7),\n",
    "    (2, 8, 9),\n",
    "    (3, 1, 6),\n",
    "    (3, 3, 2),\n",
    "    (3, 7, 5),\n",
    "    (4, 2, 7),\n",
    "    (4, 5, 6),\n",
    "    (5, 4, 9),\n",
    "    (5, 6, 1),\n",
    "    (6, 5, 2),\n",
    "    (6, 8, 4),\n",
    "    (7, 3, 5),\n",
    "    (7, 7, 6),\n",
    "    (7, 9, 3),\n",
    "    (8, 2, 9),\n",
    "    (8, 4, 4),\n",
    "    (8, 8, 7),\n",
    "    (9, 3, 6),\n",
    "]\n",
    "puzzle_hints = pd.DataFrame(puzzle_hints, columns=[\"row\", \"column\", \"digit\"])\n",
    "puzzle_hints_piv = puzzle_hints.pivot(\n",
    "    index=\"row\", columns=\"column\", values=\"digit\"\n",
    ").replace(np.nan, \"-\")\n",
    "puzzle_hints_piv"
   ]
  },
  {
   "cell_type": "markdown",
   "metadata": {},
   "source": [
    "# Defining Dimensions and Coordinates in Xarray\n",
    "In Pandas parlance, the `index` are the row labels and `columns` are the column labels.  When converting to Xarray, it is handy to name the index and columns with `df.index.name = \"row_name\"` and `df.columns.name = \"column_name\"`.  \n",
    "\n",
    "In Xarray parlance, the Pandas `df.index.name` and `df.columns.name` are both called `dimensions`.  Then the array of values of the index and columns are called `coordinates`.  Think of latitude and longitude as `dimensions` with `coordinate` values.  Xarray will infer the dimensions and coordinates from a Pandas DataFrame, provided columns and the index have names.  The following cell shows how this looks.     "
   ]
  },
  {
   "cell_type": "code",
   "execution_count": null,
   "metadata": {},
   "outputs": [],
   "source": [
    "xr.DataArray(puzzle_hints_piv)"
   ]
  },
  {
   "cell_type": "markdown",
   "metadata": {},
   "source": [
    "In the Mohan article, the Sudoki puzzle is solved in a clever way.  Rather than select the digit for each (row, column) location in the grid, a third dimension is included which represents the digits 1, 2, 3, ... etc. that acts as an on-off switch for the value.  Here is what an empty (all zeros) Xarray DataArray will look like:    "
   ]
  },
  {
   "cell_type": "code",
   "execution_count": null,
   "metadata": {},
   "outputs": [],
   "source": [
    "range_coord = range(1, 10)\n",
    "xr.DataArray(\n",
    "    np.zeros(shape=(9, 9, 9)),\n",
    "    dims=[\"row\", \"column\", \"digit\"],\n",
    "    coords={\"row\": range_coord, \"column\": range_coord, \"digit\": range_coord},\n",
    ")"
   ]
  },
  {
   "cell_type": "markdown",
   "metadata": {},
   "source": [
    "And here is a graphical represenation:  "
   ]
  },
  {
   "cell_type": "code",
   "execution_count": null,
   "metadata": {},
   "outputs": [],
   "source": [
    "data = np.random.rand(9, 9, 9)\n",
    "array = xr.DataArray(data, dims=[\"column\", \"digit\", \"row\"])\n",
    "\n",
    "\n",
    "# Function to create a single cube at a specific location\n",
    "def create_cube(x, y, z, size=1):\n",
    "    # Define the vertices of a cube\n",
    "    vertices = [\n",
    "        [x, y, z],\n",
    "        [x + size, y, z],\n",
    "        [x + size, y + size, z],\n",
    "        [x, y + size, z],\n",
    "        [x, y, z + size],\n",
    "        [x + size, y, z + size],\n",
    "        [x + size, y + size, z + size],\n",
    "        [x, y + size, z + size],\n",
    "    ]\n",
    "    # Define the 6 faces of the cube\n",
    "    faces = [\n",
    "        [vertices[j] for j in [0, 1, 2, 3]],\n",
    "        [vertices[j] for j in [4, 5, 6, 7]],\n",
    "        [vertices[j] for j in [0, 3, 7, 4]],\n",
    "        [vertices[j] for j in [1, 2, 6, 5]],\n",
    "        [vertices[j] for j in [0, 1, 5, 4]],\n",
    "        [vertices[j] for j in [2, 3, 7, 6]],\n",
    "    ]\n",
    "    return faces\n",
    "\n",
    "\n",
    "# Create a 3D plot\n",
    "fig = plt.figure(figsize=(7, 4))\n",
    "ax = fig.add_subplot(111, projection=\"3d\")\n",
    "\n",
    "# Colors for the slices\n",
    "colors = plt.cm.viridis(np.linspace(0, 1, 9))\n",
    "\n",
    "# Plot each cube\n",
    "for i in range(9):\n",
    "    for j in range(9):\n",
    "        for k in range(9):\n",
    "            faces = create_cube(i, j, k)\n",
    "            poly3d = Poly3DCollection(\n",
    "                faces, color=colors[j], edgecolor=\"k\"\n",
    "            )  # Color by digit dimension\n",
    "            ax.add_collection3d(poly3d)\n",
    "\n",
    "# Set custom labels\n",
    "ax.set_xlabel(\"Column\")\n",
    "ax.set_ylabel(\"Digit\")\n",
    "ax.set_zlabel(\"\")\n",
    "ax.set_title(\"Sudoku Dimensions and Coordinates\")\n",
    "\n",
    "# Customize ticks and labels\n",
    "ticks = np.arange(9)\n",
    "labels = np.arange(1, 10)  # Labels from 1 to 9\n",
    "ax.set_xticks(ticks)\n",
    "ax.set_yticks(ticks)\n",
    "ax.set_zticks([])  # Remove z-axis ticks\n",
    "ax.set_xticklabels(labels)\n",
    "ax.set_yticklabels(labels)\n",
    "\n",
    "# Set the aspect ratio to be equal and adjust limits to fit the plot\n",
    "ax.set_box_aspect([1, 1, 1])  # aspect ratio is 1:1:1\n",
    "ax.set_xlim([0, 9])\n",
    "ax.set_ylim([0, 9])\n",
    "ax.set_zlim([0, 9])\n",
    "\n",
    "# Adjust layout to ensure labels are visible\n",
    "plt.subplots_adjust(left=0.5, right=0.8, top=0.9, bottom=0.0)\n",
    "\n",
    "# Manually add z-axis labels\n",
    "for z in range(9):\n",
    "    ax.text(x=-1, y=-1, z=z + 0.5, s=9 - z)\n",
    "ax.text(x=-4, y=-1, z=4.5, s=\"Row\", ha=\"center\")\n",
    "\n",
    "plt.tight_layout()"
   ]
  },
  {
   "cell_type": "markdown",
   "metadata": {},
   "source": [
    "## Indices for the 3x3 Squares"
   ]
  },
  {
   "cell_type": "markdown",
   "metadata": {},
   "source": [
    "If you play Sudoku, you know that there are 3x3 squares that get each digit once and only once.  There we need to get indices for the 3x3 squares.  We will label each of the square indices within the three dimensions and make an xarray.  Later, within the optimization model, we will use the square indices to mask out portions of the puzzle.  This is how we are indexing the squares:   "
   ]
  },
  {
   "cell_type": "code",
   "execution_count": null,
   "metadata": {},
   "outputs": [],
   "source": [
    "# Define the function to get the 3x3 square index\n",
    "def get_square_index(row, col):\n",
    "    return (row // 3) * 3 + (col // 3)\n",
    "\n",
    "\n",
    "# Create the grid with row, column, and square indices\n",
    "square_index = pd.DataFrame(\n",
    "    {\n",
    "        \"row\": np.repeat(range_coord, 9),\n",
    "        \"column\": list(range_coord) * 9,\n",
    "        \"square\": [\n",
    "            get_square_index(row - 1, col - 1) + 1\n",
    "            for row in range_coord\n",
    "            for col in range_coord\n",
    "        ],\n",
    "    }\n",
    ")\n",
    "square_index = square_index.pivot(index=\"row\", columns=\"column\", values=\"square\")\n",
    "square_index"
   ]
  },
  {
   "cell_type": "markdown",
   "metadata": {},
   "source": [
    "We put that in an xarray and then duplicate it across the third dimension \"digit\" for use in the model.  "
   ]
  },
  {
   "cell_type": "code",
   "execution_count": null,
   "metadata": {},
   "outputs": [],
   "source": [
    "square_index = xr.DataArray(square_index)\n",
    "square_index_3d = xr.concat([square_index] * len(range_coord), dim=\"digit\")\n",
    "square_index_3d = square_index_3d.assign_coords(digit=range_coord)\n",
    "square_index_3d"
   ]
  },
  {
   "cell_type": "markdown",
   "metadata": {},
   "source": [
    "# Model\n",
    "\n",
    "Now we get to the model.  Initalize a Linopy model.  "
   ]
  },
  {
   "cell_type": "code",
   "execution_count": null,
   "metadata": {},
   "outputs": [],
   "source": [
    "model = linopy.Model()"
   ]
  },
  {
   "cell_type": "markdown",
   "metadata": {},
   "source": [
    "Make the binary `sudoku` variable for the model with the same dims and coords as above."
   ]
  },
  {
   "cell_type": "code",
   "execution_count": null,
   "metadata": {},
   "outputs": [],
   "source": [
    "sudoku = model.add_variables(\n",
    "    name=\"sudoku\", dims=square_index_3d.dims, coords=square_index_3d.coords, binary=True\n",
    ")"
   ]
  },
  {
   "cell_type": "markdown",
   "metadata": {},
   "source": [
    "It is handy to look at what Linopy is doing.  The code defined as single variable, but it is indexed on a 9x9x9 cube, so it is really 729 variables.  "
   ]
  },
  {
   "cell_type": "code",
   "execution_count": null,
   "metadata": {},
   "outputs": [],
   "source": [
    "sudoku"
   ]
  },
  {
   "cell_type": "markdown",
   "metadata": {},
   "source": [
    "Add the digit constraints to the model.  Each constraint sums across one of the dimensions, which holds the others constant for each summation.  By making the total == 1, the constrains ensure that the variable is turned on once and only once across that dimension.  In other words, we can't write a 1 and a 2 in the same square of the Sudoku puzzle.  The last constraint is displayed in Jupyter, which is helpful for seeing what is going on.  "
   ]
  },
  {
   "cell_type": "code",
   "execution_count": null,
   "metadata": {},
   "outputs": [],
   "source": [
    "model.add_constraints(sudoku.sum(dim=[\"column\"]) == 1, name=\"row_digit_constraint\")\n",
    "model.add_constraints(sudoku.sum(dim=[\"row\"]) == 1, name=\"column_digit_constraint\")\n",
    "model.add_constraints(sudoku.sum(dim=[\"digit\"]) == 1, name=\"row_column_constraint\")"
   ]
  },
  {
   "cell_type": "markdown",
   "metadata": {},
   "source": [
    "If you play Sudoku, you know there is also the 3x3 square constraint.  The general concept is the same as above, where we are setting the sum == 1 such that each digit occurs once and only once.  This is not quite as elegant as the code above because it has some loops and we use `square_index_3d` to select the right coordinates in the puzzle.  We do this with the `.where` function in Linopy.  "
   ]
  },
  {
   "cell_type": "code",
   "execution_count": null,
   "metadata": {},
   "outputs": [],
   "source": [
    "for digit in range_coord:\n",
    "    for square in range_coord:\n",
    "        model.add_constraints(\n",
    "            sudoku.where(square_index_3d == square).sel(digit=digit).sum() == 1,\n",
    "            name=f\"digit{digit}_square{square}_constraint\",\n",
    "        )"
   ]
  },
  {
   "cell_type": "markdown",
   "metadata": {},
   "source": [
    "A Sudoku puzzle starts with some values already filled in.  These are also added to the model as constraints.  We add these by finding the right coordinates for each hint and making it == 1.  "
   ]
  },
  {
   "cell_type": "code",
   "execution_count": null,
   "metadata": {},
   "outputs": [],
   "source": [
    "for _, datum in puzzle_hints.iterrows():\n",
    "    model.add_constraints(\n",
    "        sudoku.loc[dict(row=datum.row, column=datum.column, digit=datum.digit)] == 1,\n",
    "        name=f\"hint_{datum.row}_{datum.column}_{datum.digit}_constraint\",\n",
    "    )"
   ]
  },
  {
   "cell_type": "markdown",
   "metadata": {},
   "source": [
    "I have been able to solve this without an objective, since the constraints lead to only one solution, but having an objective seems to help the solver.  "
   ]
  },
  {
   "cell_type": "code",
   "execution_count": null,
   "metadata": {},
   "outputs": [],
   "source": [
    "model.add_objective(sudoku.sum(), sense=\"max\")"
   ]
  },
  {
   "cell_type": "markdown",
   "metadata": {},
   "source": [
    "# Solve"
   ]
  },
  {
   "cell_type": "markdown",
   "metadata": {},
   "source": [
    "Solve the model with the default solver (HiGHs)"
   ]
  },
  {
   "cell_type": "code",
   "execution_count": null,
   "metadata": {},
   "outputs": [],
   "source": [
    "model.solve()"
   ]
  },
  {
   "cell_type": "markdown",
   "metadata": {},
   "source": [
    "The solution comes out as an xarray representing a cube of binary variables.  "
   ]
  },
  {
   "cell_type": "code",
   "execution_count": null,
   "metadata": {},
   "outputs": [],
   "source": [
    "solution = model.solution.sudoku\n",
    "solution"
   ]
  },
  {
   "cell_type": "markdown",
   "metadata": {},
   "source": [
    "Squish the result down to two dimensions and put it in a DataFrame for display.  "
   ]
  },
  {
   "cell_type": "code",
   "execution_count": null,
   "metadata": {},
   "outputs": [],
   "source": [
    "final_sudoku_grid = xr.zeros_like(solution.sel(digit=1), dtype=int)\n",
    "for digit in solution.digit.values:\n",
    "    final_sudoku_grid += digit * solution.sel(digit=digit).astype(int)\n",
    "\n",
    "result = pd.DataFrame(\n",
    "    data=final_sudoku_grid.values,\n",
    "    columns=puzzle_hints_piv.columns,\n",
    "    index=puzzle_hints_piv.index,\n",
    ")\n",
    "result"
   ]
  },
  {
   "cell_type": "markdown",
   "metadata": {},
   "source": [
    "Looks like it was solved!  "
   ]
  }
 ],
 "metadata": {
  "kernelspec": {
   "display_name": "qtenv2",
   "language": "python",
   "name": "python3"
  },
  "language_info": {
   "codemirror_mode": {
    "name": "ipython",
    "version": 3
   },
   "file_extension": ".py",
   "mimetype": "text/x-python",
   "name": "python",
   "nbconvert_exporter": "python",
   "pygments_lexer": "ipython3",
   "version": "3.11.3"
  }
 },
 "nbformat": 4,
 "nbformat_minor": 2
}
