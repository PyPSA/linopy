{
 "cells": [
  {
   "cell_type": "markdown",
   "metadata": {},
   "source": [
    "# Solve on OETC (OET Cloud)\n",
    "\n",
    "This example demonstrates how to use linopy with OETC (OET Cloud) for cloud-based optimization solving. OETC is a cloud platform that provides scalable computing resources for optimization problems.\n",
    "\n",
    "## What you need to run this example:\n",
    "\n",
    "* A working installation of the required packages:\n",
    "  * `pip install google-cloud-storage requests`\n",
    "* An OETC account with valid credentials (email and password)\n",
    "* Access to OETC authentication and orchestrator servers\n",
    "\n",
    "## How OETC Cloud Solving Works\n",
    "\n",
    "The OETC integration follows this workflow:\n",
    "\n",
    "1. **Model Creation**: Define your optimization model locally using linopy\n",
    "2. **Authentication**: Sign in to the OETC platform using your credentials\n",
    "3. **File Upload**: Compress and upload your model to Google Cloud Storage\n",
    "4. **Job Submission**: Submit a compute job to the OETC orchestrator\n",
    "5. **Job Monitoring**: Wait for job completion with automatic status polling\n",
    "6. **Solution Download**: Download and decompress the solved model\n",
    "7. **Local Integration**: Load the solution back into your local model\n",
    "\n",
    "All of these steps are handled automatically by linopy's `OetcHandler`."
   ]
  },
  {
   "cell_type": "markdown",
   "metadata": {},
   "source": [
    "## Create a Model\n",
    "\n",
    "First, let's create an optimization model that we want to solve on OETC:"
   ]
  },
  {
   "cell_type": "code",
   "execution_count": null,
   "metadata": {},
   "outputs": [],
   "source": [
    "from numpy import arange\n",
    "from xarray import DataArray\n",
    "\n",
    "from linopy import Model\n",
    "\n",
    "# Create a medium-sized optimization problem\n",
    "N = 50\n",
    "m = Model()\n",
    "\n",
    "# Define decision variables with coordinates\n",
    "coords = [arange(N), arange(N)]\n",
    "x = m.add_variables(coords=coords, name=\"x\", lower=0)\n",
    "y = m.add_variables(coords=coords, name=\"y\", lower=0)\n",
    "\n",
    "# Add constraints\n",
    "m.add_constraints(x - y >= DataArray(arange(N)), name=\"constraint1\")\n",
    "m.add_constraints(x + y >= DataArray(arange(N) * 0.5), name=\"constraint2\")\n",
    "m.add_constraints(x <= DataArray(arange(N) + 10), name=\"upper_bounds\")\n",
    "\n",
    "# Set objective function\n",
    "m.add_objective((2 * x + y).sum())\n",
    "\n",
    "print(\n",
    "    f\"Model created with {len(m.variables)} variable groups and {len(m.constraints)} constraint groups\"\n",
    ")\n",
    "m"
   ]
  },
  {
   "cell_type": "markdown",
   "metadata": {},
   "source": [
    "## Configure OETC Settings\n",
    "\n",
    "Next, we need to configure the OETC settings including credentials and compute requirements:"
   ]
  },
  {
   "cell_type": "code",
   "execution_count": null,
   "metadata": {},
   "outputs": [],
   "source": [
    "# Configure your OETC credentials\n",
    "# IMPORTANT: Never hardcode credentials in production code!\n",
    "# Use environment variables or secure credential management\n",
    "import os\n",
    "\n",
    "from linopy.remote.oetc import (\n",
    "    ComputeProvider,\n",
    "    OetcCredentials,\n",
    "    OetcHandler,\n",
    "    OetcSettings,\n",
    ")\n",
    "\n",
    "credentials = OetcCredentials(\n",
    "    email=os.getenv(\"OETC_EMAIL\", \"your-email@example.com\"),\n",
    "    password=os.getenv(\"OETC_PASSWORD\", \"your-password\"),\n",
    ")\n",
    "\n",
    "# Configure OETC settings\n",
    "settings = OetcSettings(\n",
    "    credentials=credentials,\n",
    "    name=\"linopy-example-job\",\n",
    "    authentication_server_url=\"https://auth.oetcloud.com\",  # Replace with actual URL\n",
    "    orchestrator_server_url=\"https://orchestrator.oetcloud.com\",  # Replace with actual URL\n",
    "    compute_provider=ComputeProvider.GCP,\n",
    "    cpu_cores=4,  # Number of CPU cores to allocate\n",
    "    disk_space_gb=20,  # Disk space in GB\n",
    "    delete_worker_on_error=False,  # Keep worker for debugging if job fails\n",
    ")\n",
    "\n",
    "print(\"OETC settings configured successfully\")\n",
    "print(f\"Solver: {settings.solver}\")\n",
    "print(f\"CPU cores: {settings.cpu_cores}\")\n",
    "print(f\"Disk space: {settings.disk_space_gb} GB\")"
   ]
  },
  {
   "cell_type": "markdown",
   "metadata": {},
   "source": [
    "## Initialize OETC Handler\n",
    "\n",
    "The `OetcHandler` manages the entire cloud solving process:"
   ]
  },
  {
   "cell_type": "code",
   "execution_count": null,
   "metadata": {},
   "outputs": [],
   "source": [
    "# Initialize the OETC handler\n",
    "# This will authenticate with OETC and fetch cloud provider credentials\n",
    "oetc_handler = OetcHandler(settings)\n",
    "\n",
    "print(\"OETC handler initialized successfully\")\n",
    "print(f\"Authentication token expires at: {oetc_handler.jwt.expires_at}\")"
   ]
  },
  {
   "cell_type": "markdown",
   "metadata": {},
   "source": [
    "## Solve the Model on OETC\n",
    "\n",
    "Now we can solve our model on the OETC cloud platform. The `OetcHandler` is passed to the model's `solve()` method:"
   ]
  },
  {
   "cell_type": "code",
   "execution_count": null,
   "metadata": {},
   "outputs": [],
   "source": [
    "# Solve the model on OETC\n",
    "# This will upload the model, submit a job, wait for completion, and download the solution\n",
    "import time\n",
    "\n",
    "print(\"Starting cloud solving process...\")\n",
    "start_time = time.time()\n",
    "\n",
    "try:\n",
    "    status, termination_condition = m.solve(remote=oetc_handler)\n",
    "\n",
    "    end_time = time.time()\n",
    "    total_time = end_time - start_time\n",
    "\n",
    "    print(f\"\\nSolving completed in {total_time:.2f} seconds\")\n",
    "    print(f\"Status: {status}\")\n",
    "    print(f\"Termination condition: {termination_condition}\")\n",
    "    print(f\"Objective value: {m.objective.value:.4f}\")\n",
    "\n",
    "except Exception as e:\n",
    "    print(f\"Error during solving: {e}\")\n",
    "    raise"
   ]
  },
  {
   "cell_type": "markdown",
   "metadata": {},
   "source": [
    "## Examine the Solution\n",
    "\n",
    "Let's examine the solution returned from OETC:"
   ]
  },
  {
   "cell_type": "code",
   "execution_count": null,
   "metadata": {},
   "outputs": [],
   "source": [
    "# Display solution summary\n",
    "print(f\"Model status: {m.status}\")\n",
    "print(f\"Objective value: {m.objective.value}\")\n",
    "print(f\"Number of variables: {m.solution.sizes}\")\n",
    "\n",
    "# Show a subset of the solution\n",
    "print(\"\\nSample of solution values:\")\n",
    "print(\"x values (first 5x5):\")\n",
    "print(m.solution[\"x\"].isel(dim_0=slice(0, 5), dim_1=slice(0, 5)).values)\n",
    "\n",
    "print(\"\\ny values (first 5x5):\")\n",
    "print(m.solution[\"y\"].isel(dim_0=slice(0, 5), dim_1=slice(0, 5)).values)"
   ]
  },
  {
   "cell_type": "markdown",
   "metadata": {},
   "source": [
    "## Advanced OETC Configuration\n",
    "\n",
    "### Solver Options\n",
    "\n",
    "You can pass solver-specific options through the `solver_options` parameter:"
   ]
  },
  {
   "cell_type": "code",
   "execution_count": null,
   "metadata": {},
   "outputs": [],
   "source": [
    "# Example with advanced solver options\n",
    "advanced_settings = OetcSettings(\n",
    "    credentials=credentials,\n",
    "    name=\"advanced-linopy-job\",\n",
    "    authentication_server_url=\"https://auth.oetcloud.com\",\n",
    "    orchestrator_server_url=\"https://orchestrator.oetcloud.com\",\n",
    "    solver=\"gurobi\",  # Using Gurobi solver\n",
    "    solver_options={\n",
    "        \"TimeLimit\": 600,  # 10 minutes\n",
    "        \"MIPGap\": 0.01,  # 1% optimality gap\n",
    "        \"Threads\": 4,  # Use 4 threads\n",
    "        \"OutputFlag\": 1,  # Enable solver output\n",
    "    },\n",
    "    cpu_cores=8,  # More CPU cores for larger problems\n",
    "    disk_space_gb=50,  # More disk space\n",
    ")\n",
    "\n",
    "print(\"Advanced OETC settings:\")\n",
    "print(f\"Solver: {advanced_settings.solver}\")\n",
    "print(f\"Solver options: {advanced_settings.solver_options}\")\n",
    "print(f\"CPU cores: {advanced_settings.cpu_cores}\")\n",
    "print(f\"Disk space: {advanced_settings.disk_space_gb} GB\")"
   ]
  },
  {
   "cell_type": "markdown",
   "metadata": {},
   "source": [
    "### Error Handling and Debugging\n",
    "\n",
    "When working with cloud solving, it's important to handle potential errors gracefully:"
   ]
  },
  {
   "cell_type": "code",
   "execution_count": null,
   "metadata": {},
   "outputs": [],
   "source": [
    "def solve_with_error_handling(model, oetc_handler, max_retries=3):\n",
    "    \"\"\"Solve model with error handling and retries\"\"\"\n",
    "\n",
    "    for attempt in range(max_retries):\n",
    "        try:\n",
    "            print(f\"Solving attempt {attempt + 1}/{max_retries}...\")\n",
    "            status, termination = model.solve(remote=oetc_handler)\n",
    "\n",
    "            if status == \"ok\":\n",
    "                print(\"Solving successful!\")\n",
    "                return status, termination\n",
    "            else:\n",
    "                print(f\"Solving returned status: {status}\")\n",
    "\n",
    "        except Exception as e:\n",
    "            print(f\"Attempt {attempt + 1} failed: {e}\")\n",
    "\n",
    "            if attempt < max_retries - 1:\n",
    "                print(\"Retrying in 30 seconds...\")\n",
    "                time.sleep(30)\n",
    "            else:\n",
    "                print(\"All attempts failed\")\n",
    "                raise\n",
    "\n",
    "    return None, None\n",
    "\n",
    "\n",
    "# Example usage (commented out to avoid actual execution)\n",
    "# status, termination = solve_with_error_handling(m, oetc_handler)"
   ]
  },
  {
   "cell_type": "markdown",
   "metadata": {},
   "source": [
    "## Security Best Practices\n",
    "\n",
    "When using OETC in production:\n",
    "\n",
    "1. **Never hardcode credentials**: Use environment variables or secure credential stores\n",
    "2. **Use token expiration**: The OETC handler automatically manages token expiration\n",
    "3. **Validate inputs**: Ensure your model data doesn't contain sensitive information\n",
    "4. **Monitor costs**: Cloud computing resources have associated costs\n",
    "5. **Clean up resources**: Set `delete_worker_on_error=True` for automatic cleanup\n",
    "\n",
    "## Comparison with SSH Remote Solving\n",
    "\n",
    "| Feature | OETC Cloud | SSH Remote |\n",
    "|---------|------------|------------|\n",
    "| Setup | Account registration | Server access required |\n",
    "| Scalability | Auto-scaling | Fixed server resources |\n",
    "| Maintenance | Managed service | Self-managed |\n",
    "| Cost | Pay-per-use | Infrastructure costs |\n",
    "| Security | Enterprise-grade | Self-managed |\n",
    "| Solver Licenses | Included | User-provided |\n",
    "\n",
    "Choose OETC for:\n",
    "- Large-scale problems requiring significant compute resources\n",
    "- Temporary or intermittent optimization needs\n",
    "- Teams without dedicated infrastructure\n",
    "- Access to premium solvers without license management\n",
    "\n",
    "Choose SSH remote for:\n",
    "- Existing infrastructure with optimization solvers\n",
    "- Strict data governance requirements\n",
    "- Consistent, long-running optimization workloads\n",
    "- Full control over the solving environment"
   ]
  }
 ],
 "metadata": {
  "kernelspec": {
   "display_name": "Python 3",
   "language": "python",
   "name": "python3"
  },
  "language_info": {
   "codemirror_mode": {
    "name": "ipython",
    "version": 3
   },
   "file_extension": ".py",
   "mimetype": "text/x-python",
   "name": "python",
   "nbconvert_exporter": "python",
   "pygments_lexer": "ipython3",
   "version": "3.12.3"
  }
 },
 "nbformat": 4,
 "nbformat_minor": 4
}
