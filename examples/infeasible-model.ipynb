{
 "cells": [
  {
   "attachments": {},
   "cell_type": "markdown",
   "metadata": {},
   "source": [
    "# Trouble shooting - Infeasible Model\n",
    "\n",
    "From time to time, you encounter models that are infeasible. This means that there is no solution that satisfies all the constraints. Some solvers allow you to get the set of constraints that are infeasible. This is useful for debugging your model. \n",
    "\n",
    "In the following, we show how `linopy` can help you with the infeasibility diagnostics by finding the set of constraints that are infeasible. So far the functionality is limited to the `gurobi` solver. Hopefully, we will be able to extend this to other solvers in the future.\n",
    "\n",
    "We start by creating a simple model that is infeasible."
   ]
  },
  {
   "cell_type": "code",
   "execution_count": null,
   "metadata": {},
   "outputs": [],
   "source": [
    "import pandas as pd\n",
    "\n",
    "import linopy\n",
    "\n",
    "m = linopy.Model()\n",
    "\n",
    "time = pd.RangeIndex(10, name=\"time\")\n",
    "x = m.add_variables(lower=0, coords=[time], name=\"x\")\n",
    "y = m.add_variables(lower=0, coords=[time], name=\"y\")\n",
    "\n",
    "m.add_constraints(x <= 5)\n",
    "m.add_constraints(y <= 5)\n",
    "m.add_constraints(x + y >= 12)"
   ]
  },
  {
   "attachments": {},
   "cell_type": "markdown",
   "metadata": {},
   "source": [
    "If we now try to solve the model, we get an message that the model is infeasible."
   ]
  },
  {
   "cell_type": "code",
   "execution_count": null,
   "metadata": {},
   "outputs": [],
   "source": [
    "m.solve(solver_name=\"gurobi\")"
   ]
  },
  {
   "attachments": {},
   "cell_type": "markdown",
   "metadata": {},
   "source": [
    "Now, we can use the model in the background to find the set of infeasible constraints. The following code will return a list constraint labels that are infeasible."
   ]
  },
  {
   "cell_type": "code",
   "execution_count": null,
   "metadata": {},
   "outputs": [],
   "source": [
    "labels = m.compute_infeasibilities()\n",
    "labels"
   ]
  },
  {
   "attachments": {},
   "cell_type": "markdown",
   "metadata": {},
   "source": [
    "Using the `print_labels` function, we can print the constraints that we found to be infeasible."
   ]
  },
  {
   "cell_type": "code",
   "execution_count": null,
   "metadata": {},
   "outputs": [],
   "source": [
    "m.constraints.print_labels(labels)"
   ]
  },
  {
   "attachments": {},
   "cell_type": "markdown",
   "metadata": {},
   "source": [
    "The two function calls above can be combined into a single call:"
   ]
  },
  {
   "cell_type": "code",
   "execution_count": null,
   "metadata": {},
   "outputs": [],
   "source": [
    "m.print_infeasibilities()"
   ]
  }
 ],
 "metadata": {
  "kernelspec": {
   "display_name": "base",
   "language": "python",
   "name": "python3"
  },
  "language_info": {
   "codemirror_mode": {
    "name": "ipython",
    "version": 3
   },
   "file_extension": ".py",
   "mimetype": "text/x-python",
   "name": "python",
   "nbconvert_exporter": "python",
   "pygments_lexer": "ipython3",
   "version": "3.11.3"
  },
  "orig_nbformat": 4
 },
 "nbformat": 4,
 "nbformat_minor": 2
}
