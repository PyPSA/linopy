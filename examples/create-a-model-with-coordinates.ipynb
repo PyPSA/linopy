{
 "cells": [
  {
   "cell_type": "markdown",
   "id": "4db583af",
   "metadata": {},
   "source": [
    "# Use Coordinates\n",
    "\n",
    "Now, the real power of the package comes into play! \n",
    "\n",
    "Linopy is structured around the concept that variables, and therefore expressions and constraints, have coordinates. That is, a `Variable` object actually contains multiple variables across dimensions, just as we know it from a `numpy` array or a `pandas.DataFrame`.\n",
    "\n",
    "Suppose the two variables `x` and `y` are now functions of time `t` and we would modify the problem according to: "
   ]
  },
  {
   "cell_type": "markdown",
   "id": "comparable-talent",
   "metadata": {},
   "source": [
    "Minimize:\n",
    "$$\\sum_t x_t + 2 y_t$$\n",
    "\n",
    "subject to:\n",
    "\n",
    "$$\n",
    "x_t \\ge 0 \\qquad \\forall t \\\\\n",
    "y_t \\ge 0 \\qquad \\forall t \\\\\n",
    "3x_t + 7y_t \\ge 10 t \\qquad \\forall t\\\\\n",
    "5x_t + 2y_t \\ge 3 t \\qquad \\forall t\n",
    "$$\n",
    "\n",
    "whereas `t` spans all the range from 0 to 10."
   ]
  },
  {
   "cell_type": "markdown",
   "id": "proprietary-receipt",
   "metadata": {},
   "source": [
    "In order to formulate the new problem with linopy, we start again by initializing a model."
   ]
  },
  {
   "cell_type": "code",
   "execution_count": null,
   "id": "close-maximum",
   "metadata": {},
   "outputs": [],
   "source": [
    "import linopy\n",
    "\n",
    "m = linopy.Model()"
   ]
  },
  {
   "cell_type": "markdown",
   "id": "positive-appearance",
   "metadata": {},
   "source": [
    "Again, we define `x` and `y` using the `add_variables` function, but now we are adding a `coords` argument. This automatically creates optimization variables for all coordinates, in this case time-steps."
   ]
  },
  {
   "cell_type": "code",
   "execution_count": null,
   "id": "included-religious",
   "metadata": {},
   "outputs": [],
   "source": [
    "import pandas as pd\n",
    "\n",
    "time = pd.Index(range(10), name=\"time\")\n",
    "\n",
    "x = m.add_variables(\n",
    "    lower=0,\n",
    "    coords=[time],\n",
    "    name=\"x\",\n",
    ")\n",
    "y = m.add_variables(lower=0, coords=[time], name=\"y\")"
   ]
  },
  {
   "cell_type": "markdown",
   "id": "terminal-ethernet",
   "metadata": {},
   "source": [
    "Following the previous example, we write the constraints out using the syntax from above, while multiplying the rhs with `t`. Note that the coordinates from the lhs and the rhs have to match. \n",
    "\n",
    ".. note::\n",
    "    In the beginning, it is recommended to use explicit dimension names. Like that, things remain clear and no unexpected broadcasting (which we show later) will happen. "
   ]
  },
  {
   "cell_type": "code",
   "execution_count": null,
   "id": "c24d120a",
   "metadata": {},
   "outputs": [],
   "source": [
    "factor = pd.Series(time, index=time)\n",
    "\n",
    "3 * x + 7 * y >= 10 * factor"
   ]
  },
  {
   "cell_type": "markdown",
   "id": "f09803f4",
   "metadata": {},
   "source": [
    "It always helps to write out the constraints before adding them to the model. Since they look good, let's assign them."
   ]
  },
  {
   "cell_type": "code",
   "execution_count": null,
   "id": "comprehensive-blend",
   "metadata": {},
   "outputs": [],
   "source": [
    "con1 = m.add_constraints(3 * x + 7 * y >= 10 * factor, name=\"con1\")\n",
    "con2 = m.add_constraints(5 * x + 2 * y >= 3 * factor, name=\"con2\")\n",
    "m"
   ]
  },
  {
   "cell_type": "markdown",
   "id": "induced-professor",
   "metadata": {},
   "source": [
    "Now, when it comes to the objective, we use the `sum` function of `linopy.LinearExpression`. This stacks all terms all terms of the `time` dimension and writes them into one big expression. "
   ]
  },
  {
   "cell_type": "code",
   "execution_count": null,
   "id": "alternate-story",
   "metadata": {},
   "outputs": [],
   "source": [
    "obj = (x + 2 * y).sum()\n",
    "m.add_objective(obj)"
   ]
  },
  {
   "cell_type": "code",
   "execution_count": null,
   "id": "outer-presence",
   "metadata": {},
   "outputs": [],
   "source": [
    "m.solve()"
   ]
  },
  {
   "cell_type": "markdown",
   "id": "495cd082",
   "metadata": {},
   "source": [
    "In order to inspect the solution. You can go via the variables, i.e. `y.solution` or via the `solution` aggregator of the model, which combines the solution of all variables. This can sometimes be helpful."
   ]
  },
  {
   "cell_type": "code",
   "execution_count": null,
   "id": "monthly-census",
   "metadata": {},
   "outputs": [],
   "source": [
    "m.solution.to_dataframe().plot(grid=True, ylabel=\"Optimal Value\");"
   ]
  },
  {
   "cell_type": "markdown",
   "id": "owned-europe",
   "metadata": {},
   "source": [
    "Alright! Now you learned how to set up linopy variables and expressions with coordinates. In the User Guide, which follows, we are going to see, how the representation of variables with coordinates allows us to formulate more advanced operations."
   ]
  }
 ],
 "metadata": {
  "@webio": {
   "lastCommId": null,
   "lastKernelId": null
  },
  "kernelspec": {
   "display_name": "Python 3",
   "language": "python",
   "name": "python3"
  },
  "language_info": {
   "codemirror_mode": {
    "name": "ipython",
    "version": 3
   },
   "file_extension": ".py",
   "mimetype": "text/x-python",
   "name": "python",
   "nbconvert_exporter": "python",
   "pygments_lexer": "ipython3",
   "version": "3.11.3"
  }
 },
 "nbformat": 4,
 "nbformat_minor": 5
}
