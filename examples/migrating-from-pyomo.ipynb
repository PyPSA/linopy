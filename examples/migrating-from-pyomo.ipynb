{
 "cells": [
  {
   "cell_type": "markdown",
   "id": "ded90143",
   "metadata": {},
   "source": [
    "## Migrating from Pyomo\n",
    "\n",
    "Similar to the implementation in Pyomo, expressions and constraints can be created using a combination of a function and a set of coordinates to iterate over. For creating expressions, the function itself has to return a `ScalarLinearExpression` which can be obtained by selecting single values of the variables are combining them: "
   ]
  },
  {
   "cell_type": "code",
   "execution_count": null,
   "id": "19f3b954",
   "metadata": {},
   "outputs": [],
   "source": [
    "import pandas as pd\n",
    "\n",
    "import linopy\n",
    "\n",
    "m = linopy.Model()\n",
    "coords = pd.RangeIndex(10), [\"a\", \"b\"]\n",
    "x = m.add_variables(0, 100, coords, name=\"x\")\n",
    "x"
   ]
  },
  {
   "cell_type": "code",
   "execution_count": null,
   "id": "2bbfd13b",
   "metadata": {},
   "outputs": [],
   "source": [
    "x.at[0, \"a\"]"
   ]
  },
  {
   "cell_type": "markdown",
   "id": "a1631a76",
   "metadata": {},
   "source": [
    ".. important::\n",
    "    The creation of scalar variables has changed in version `0.3.10` to use the `.at[]` method. When creating a `ScalarVariable` with the `[]` operator, a future warning is raised. The `[]` operator will reserver for integer and boolean indexing only, aligning to the xarray functionality. \n",
    "\n",
    "\n",
    "\n",
    "Such a `ScalarVariable` is very light-weight and can be used in functions in order to create expressions, just like you know it from `Pyomo`. The following function shows how:"
   ]
  },
  {
   "cell_type": "code",
   "execution_count": null,
   "id": "4ed6eafb",
   "metadata": {},
   "outputs": [],
   "source": [
    "def bound(m, i, j):\n",
    "    if i % 2:\n",
    "        return (i / 2) * x.at[i, j]\n",
    "    else:\n",
    "        return i * x.at[i, j]\n",
    "\n",
    "\n",
    "expr = m.linexpr(bound, coords)\n",
    "expr"
   ]
  },
  {
   "cell_type": "markdown",
   "id": "4faecead",
   "metadata": {},
   "source": [
    "Note that the function's first argument has to be the model itself, even though it might not be used in the function."
   ]
  },
  {
   "cell_type": "markdown",
   "id": "d7368607",
   "metadata": {},
   "source": [
    "This functionality is also supported by the `.add_constraints` function. When passing a function as a first argument, `.add_constraints` expects `coords` to by non-empty. The function itself has to return a `AnonymousScalarConstraint`, as done by "
   ]
  },
  {
   "cell_type": "code",
   "execution_count": null,
   "id": "eeebb710",
   "metadata": {},
   "outputs": [],
   "source": [
    "x.at[0, \"a\"] <= 3"
   ]
  },
  {
   "cell_type": "code",
   "execution_count": null,
   "id": "087203ad",
   "metadata": {},
   "outputs": [],
   "source": [
    "def bound(m, i, j):\n",
    "    if i % 2:\n",
    "        return (i / 2) * x.at[i, j] >= i\n",
    "    else:\n",
    "        return i * x.at[i, j] == 0.0\n",
    "\n",
    "\n",
    "con = m.add_constraints(bound, coords=coords)\n",
    "con"
   ]
  }
 ],
 "metadata": {
  "@webio": {
   "lastCommId": null,
   "lastKernelId": null
  },
  "kernelspec": {
   "display_name": "Python 3",
   "language": "python",
   "name": "python3"
  },
  "language_info": {
   "codemirror_mode": {
    "name": "ipython",
    "version": 3
   },
   "file_extension": ".py",
   "mimetype": "text/x-python",
   "name": "python",
   "nbconvert_exporter": "python",
   "pygments_lexer": "ipython3",
   "version": "3.11.3"
  }
 },
 "nbformat": 4,
 "nbformat_minor": 5
}
