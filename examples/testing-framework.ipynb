{
 "cells": [
  {
   "attachments": {},
   "cell_type": "markdown",
   "metadata": {},
   "source": [
    "# Testing with Linopy\n",
    "\n",
    "In some cases you want to make sure the objects you create with `linopy` are correct and behave as expected. For this purpose, `linopy` provides a small testing framework, available at `linopy.testing`. In the following, we will show how to use it."
   ]
  },
  {
   "cell_type": "code",
   "execution_count": null,
   "metadata": {},
   "outputs": [],
   "source": [
    "import pandas as pd\n",
    "\n",
    "import linopy\n",
    "from linopy.testing import assert_conequal, assert_linequal, assert_varequal"
   ]
  },
  {
   "cell_type": "code",
   "execution_count": null,
   "metadata": {},
   "outputs": [],
   "source": [
    "m = linopy.Model()"
   ]
  },
  {
   "attachments": {},
   "cell_type": "markdown",
   "metadata": {},
   "source": [
    "## Check the equality of two variables\n",
    "\n",
    "The most basic test is to check the equality of two variables. This can be done with the `assert_varequal` function. If the two variables are not equal, an `AssertionError` is raised."
   ]
  },
  {
   "cell_type": "code",
   "execution_count": null,
   "metadata": {},
   "outputs": [],
   "source": [
    "x = m.add_variables(coords=[pd.RangeIndex(10, name=\"first\")], name=\"x\")\n",
    "\n",
    "assert_varequal(x, m.variables.x)\n",
    "# or\n",
    "assert_varequal(x, m.variables[\"x\"])"
   ]
  },
  {
   "attachments": {},
   "cell_type": "markdown",
   "metadata": {},
   "source": [
    "## Check the equality of two expressions\n",
    "\n",
    "Analogeous to the `assert_varequal` function, the `assert_expr_equal` function can be used to check the equality of two expressions. "
   ]
  },
  {
   "cell_type": "code",
   "execution_count": null,
   "metadata": {},
   "outputs": [],
   "source": [
    "y = m.add_variables(coords=[pd.RangeIndex(10, name=\"first\")], name=\"y\")\n",
    "\n",
    "expr = 2 * x + y\n",
    "assert_linequal(expr, 2 * x + y)"
   ]
  },
  {
   "attachments": {},
   "cell_type": "markdown",
   "metadata": {},
   "source": [
    "## Check the equality of two constraints\n",
    "\n",
    "And finally, the `assert_constraint_equal` function can be used to check the equality of two constraints."
   ]
  },
  {
   "cell_type": "code",
   "execution_count": null,
   "metadata": {},
   "outputs": [],
   "source": [
    "con = m.add_constraints(expr >= 3, name=\"con\")\n",
    "\n",
    "assert_conequal(con, m.constraints.con)"
   ]
  },
  {
   "attachments": {},
   "cell_type": "markdown",
   "metadata": {},
   "source": [
    "Note that we cannot compare the `con` object with the original unassigned constraint `expr >= 3`. This is because a constraint object gets labels as soon as we add it to model. However we can make a workaround, and compare a new unassigned constraint, derived from `con` with the original constraint."
   ]
  },
  {
   "cell_type": "code",
   "execution_count": null,
   "metadata": {},
   "outputs": [],
   "source": [
    "assert_conequal(expr >= 3, con.lhs >= con.rhs)"
   ]
  }
 ],
 "metadata": {
  "kernelspec": {
   "display_name": "base",
   "language": "python",
   "name": "python3"
  },
  "language_info": {
   "codemirror_mode": {
    "name": "ipython",
    "version": 3
   },
   "file_extension": ".py",
   "mimetype": "text/x-python",
   "name": "python",
   "nbconvert_exporter": "python",
   "pygments_lexer": "ipython3",
   "version": "3.11.3"
  },
  "orig_nbformat": 4
 },
 "nbformat": 4,
 "nbformat_minor": 2
}
