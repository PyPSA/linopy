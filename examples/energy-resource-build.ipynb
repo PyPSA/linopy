{
 "cells": [
  {
   "cell_type": "markdown",
   "metadata": {},
   "source": [
    "# Power Portfolio Build-Out Example with Linopy\n",
    "\n",
    "This notebook provides a simplified example of building a power generation portfolio using `linopy`. The goal is to demonstrate the process of setting up and solving a linear optimization problem where different power generation resources are selected and built to meet future energy demands. "
   ]
  },
  {
   "cell_type": "code",
   "execution_count": null,
   "metadata": {},
   "outputs": [],
   "source": [
    "import matplotlib.pyplot as plt\n",
    "import numpy as np\n",
    "import pandas as pd\n",
    "import xarray as xr\n",
    "\n",
    "import linopy as lp"
   ]
  },
  {
   "cell_type": "markdown",
   "metadata": {},
   "source": [
    "## Problem Statement\n",
    "This notebook presents an example portfolio expansion model used to meet an energy need.  This was originally developed for a hydropower utility.  Hydropower utilities can be energy limited (i.e., monthly energy balance) rather than capacity limited (i.e., hourly generating capacity), therefore, this algorithm addresses a monthly energy need rather than an hourly capacity need.  A different algorithm would be needed to meet capacity needs and would include battery storage, etc.   \n",
    "\n",
    "This notebook addresses the question: what is the least-cost way to meet an energy need in the future?  "
   ]
  },
  {
   "cell_type": "markdown",
   "metadata": {},
   "source": [
    "## Generate Dummy Data\n",
    "\n",
    "A lot of this code is here just to generate dummy data.  I would not spend too much time on this code.  The `Linopy` model is down below.  \n",
    "### Energy Need\n",
    "\n",
    "This analysis assumes that an energy need has been identified through modeling and simulation.  For this example, we will assume the energy need is as follows:   "
   ]
  },
  {
   "cell_type": "code",
   "execution_count": null,
   "metadata": {},
   "outputs": [],
   "source": [
    "def generate_dummy_energy_needs(start_year=2024, years=10):\n",
    "    # Generate a monthly date range\n",
    "    dates = pd.date_range(start=f\"{start_year}-01-01\", periods=years * 12, freq=\"M\")\n",
    "\n",
    "    # Create a sinusoidal pattern for energy needs with a downward trend over time\n",
    "    months = np.arange(len(dates))\n",
    "\n",
    "    # Base seasonal pattern using sine functions (with phase shift for winter, spring, etc.)\n",
    "    seasonal_pattern = np.sin(\n",
    "        2 * np.pi * (months % 12) / 12\n",
    "    )  # Basic seasonal pattern (positive in spring/fall, negative in winter/summer)\n",
    "\n",
    "    # Adjust the pattern so that winter months trend more negative over time\n",
    "    winter_weight = 0.5 * (\n",
    "        np.cos(2 * np.pi * (months % 12) / 12 - np.pi) + 1\n",
    "    )  # Emphasize winter more\n",
    "\n",
    "    # Add a downward trend over time\n",
    "    trend = -0.01 * months  # A small negative trend each month\n",
    "\n",
    "    # Combine seasonal pattern, winter weight, and trend\n",
    "    energy_balance = seasonal_pattern * (1 - winter_weight) + trend\n",
    "    energy_balance *= 10\n",
    "    # Convert to pandas DataFrame\n",
    "    df = pd.DataFrame(data={\"monthly_energy_balance\": energy_balance}, index=dates)\n",
    "\n",
    "    return df"
   ]
  },
  {
   "cell_type": "code",
   "execution_count": null,
   "metadata": {},
   "outputs": [],
   "source": [
    "# Generate the dummy dataset\n",
    "dummy_energy_needs_df = generate_dummy_energy_needs()\n",
    "dummy_energy_needs_df.plot()\n",
    "plt.grid()"
   ]
  },
  {
   "cell_type": "markdown",
   "metadata": {},
   "source": [
    "The energy need is based on the negative monthly energy balance.  This will be an input to the model, so it needs to be put in an xarray.  "
   ]
  },
  {
   "cell_type": "code",
   "execution_count": null,
   "metadata": {},
   "outputs": [],
   "source": [
    "dummy_energy_needs_df.index.name = \"datetime\"\n",
    "dummy_energy_needs_df[\"energy_needs_aMW\"] = (\n",
    "    -dummy_energy_needs_df.monthly_energy_balance\n",
    ").clip(lower=0)\n",
    "energy_needs_xr = xr.DataArray(dummy_energy_needs_df.energy_needs_aMW)"
   ]
  },
  {
   "cell_type": "markdown",
   "metadata": {},
   "source": [
    "### Resource Generation Profiles\n",
    "\n",
    "We are looking for the least cost resource that can meet the energy need.  We will make up some dummy generation profiles for wind and solar.  "
   ]
  },
  {
   "cell_type": "code",
   "execution_count": null,
   "metadata": {},
   "outputs": [],
   "source": [
    "def generate_resource_profiles(start_year=2024, years=10, noise_level=0.05):\n",
    "    # Generate a monthly date range\n",
    "    dates = pd.date_range(start=f\"{start_year}-01-01\", periods=years * 12, freq=\"M\")\n",
    "\n",
    "    # Base profiles for wind and solar resources\n",
    "    wind_winter_peak = np.array(\n",
    "        [0.6, 0.55, 0.5, 0.45, 0.4, 0.35, 0.3, 0.25, 0.3, 0.4, 0.5, 0.55]\n",
    "    )  # Wind peaking in winter\n",
    "    wind_summer_peak = np.array(\n",
    "        [0.3, 0.25, 0.3, 0.4, 0.5, 0.55, 0.6, 0.55, 0.5, 0.45, 0.4, 0.35]\n",
    "    )  # Wind peaking in summer\n",
    "    solar_base = np.array(\n",
    "        [0.1, 0.2, 0.4, 0.6, 0.7, 0.9, 0.95, 0.85, 0.6, 0.4, 0.2, 0.1]\n",
    "    )  # Solar peaking in summer\n",
    "\n",
    "    # Create dummy profiles with slight variations\n",
    "    profiles = {}\n",
    "    for i, location in enumerate([\"A\", \"B\", \"C\"]):\n",
    "        # Set a unique random seed for each location's wind and solar profiles\n",
    "        wind_seed = hash(f\"wind_{location}\") % (2**32)\n",
    "        solar_seed = hash(f\"solar_{location}\") % (2**32)\n",
    "\n",
    "        np.random.seed(wind_seed)\n",
    "        if i == 0:\n",
    "            wind_profile = wind_winter_peak + noise_level * np.random.randn(12)\n",
    "        elif i == 1:\n",
    "            wind_profile = wind_summer_peak + noise_level * np.random.randn(12)\n",
    "        else:\n",
    "            # Create a mix or a balanced profile as the third option\n",
    "            wind_profile = 0.5 * (\n",
    "                wind_winter_peak + wind_summer_peak\n",
    "            ) + noise_level * np.random.randn(12)\n",
    "\n",
    "        np.random.seed(solar_seed)\n",
    "        solar_profile = solar_base + noise_level * np.random.randn(12)\n",
    "\n",
    "        # Set a unique random seed for the final noise adder\n",
    "        np.random.seed(wind_seed + 1)\n",
    "        profiles[f\"wind_{location}\"] = np.tile(\n",
    "            wind_profile, years\n",
    "        ) + noise_level * np.random.randn(len(dates))\n",
    "\n",
    "        np.random.seed(solar_seed + 1)\n",
    "        profiles[f\"solar_{location}\"] = np.tile(\n",
    "            solar_profile, years\n",
    "        ) + noise_level * np.random.randn(len(dates))\n",
    "\n",
    "    # Create a DataFrame with the profiles\n",
    "    df_profiles = pd.DataFrame(data=profiles, index=dates)\n",
    "\n",
    "    return df_profiles"
   ]
  },
  {
   "cell_type": "code",
   "execution_count": null,
   "metadata": {},
   "outputs": [],
   "source": [
    "# Generate the dummy dataset\n",
    "df_profiles = generate_resource_profiles()\n",
    "\n",
    "# Plot the profiles for the first 12 months\n",
    "df_profiles.groupby(df_profiles.index.month).mean().plot()\n",
    "plt.xlabel(\"month\")\n",
    "plt.ylabel(\"normalized generation\")\n",
    "plt.grid()"
   ]
  },
  {
   "cell_type": "markdown",
   "metadata": {},
   "source": [
    "As before, convert to xarray for linopy.  "
   ]
  },
  {
   "cell_type": "code",
   "execution_count": null,
   "metadata": {},
   "outputs": [],
   "source": [
    "df_profiles.index.name = \"datetime\"\n",
    "df_profiles.columns.name = \"resource\"\n",
    "resource_profiles_xr = xr.DataArray(df_profiles)"
   ]
  },
  {
   "cell_type": "markdown",
   "metadata": {},
   "source": [
    "### Resource Cost Profiles"
   ]
  },
  {
   "cell_type": "code",
   "execution_count": null,
   "metadata": {},
   "outputs": [],
   "source": [
    "def generate_unit_cost_profiles(start_year=2024, years=10, decay_rate=0.005):\n",
    "    # Generate a monthly date range\n",
    "    dates = pd.date_range(start=f\"{start_year}-01-01\", periods=years * 12, freq=\"M\")\n",
    "\n",
    "    # Initial costs for wind and solar resources\n",
    "    initial_costs = {\n",
    "        \"wind_A\": 1.0,\n",
    "        \"wind_B\": 1.2,\n",
    "        \"wind_C\": 1.1,\n",
    "        \"solar_A\": 0.8,\n",
    "        \"solar_B\": 0.85,\n",
    "        \"solar_C\": 0.9,\n",
    "    }\n",
    "\n",
    "    # Create dummy profiles with slow exponential decay\n",
    "    profiles = {}\n",
    "    for resource, initial_cost in initial_costs.items():\n",
    "        # Exponential decay function\n",
    "        decay = initial_cost * np.exp(-decay_rate * np.arange(len(dates)))\n",
    "\n",
    "        # Assign decay curve to profile\n",
    "        profiles[resource] = decay\n",
    "\n",
    "    # Create a DataFrame with the profiles\n",
    "    df_profiles = pd.DataFrame(data=profiles, index=dates)\n",
    "\n",
    "    return df_profiles\n",
    "\n",
    "\n",
    "# Generate the dummy dataset\n",
    "df_unit_cost_profiles = generate_unit_cost_profiles()\n",
    "\n",
    "# Plot the unit cost profiles\n",
    "df_unit_cost_profiles.plot()\n",
    "plt.xlabel(\"dt\")\n",
    "plt.ylabel(\"Unit Cost\")\n",
    "plt.legend(title=\"resource\", bbox_to_anchor=(1.05, 1), loc=\"upper left\")\n",
    "plt.grid()"
   ]
  },
  {
   "cell_type": "markdown",
   "metadata": {},
   "source": [
    "Convert to xarray"
   ]
  },
  {
   "cell_type": "code",
   "execution_count": null,
   "metadata": {},
   "outputs": [],
   "source": [
    "df_unit_cost_profiles.index.name = \"datetime\"\n",
    "df_unit_cost_profiles.columns.name = \"resource\"\n",
    "unit_cost_profiles_xr = xr.DataArray(df_unit_cost_profiles)"
   ]
  },
  {
   "cell_type": "markdown",
   "metadata": {},
   "source": [
    "## Optimized Energy Portfolio Model\n",
    "\n",
    "Now we are finally to the porfolio model.  We know our resource needs, the generation of each resource, and the cost of each resource, we can write an optimization model to select the least cost portfolio that meets the energy need.  \n",
    "\n",
    "The model is contained in the cells below.  I've broken up the code across cells so you can get an idea of what the model components look like.  Because the variables are vectorized across multiple dimensions, a single constraint is actually a whole array of constraints.      "
   ]
  },
  {
   "cell_type": "code",
   "execution_count": null,
   "metadata": {},
   "outputs": [],
   "source": [
    "# Initialize the model\n",
    "m = lp.Model()"
   ]
  },
  {
   "cell_type": "code",
   "execution_count": null,
   "metadata": {},
   "outputs": [],
   "source": [
    "# build out\n",
    "build_out = m.add_variables(\n",
    "    lower=0,\n",
    "    dims=resource_profiles_xr.dims,\n",
    "    coords=resource_profiles_xr.coords,\n",
    "    name=\"build_out\",\n",
    ")\n",
    "## make the build-out increase\n",
    "m.add_constraints(build_out >= build_out.shift(datetime=1), name=\"build_out_increasing\")"
   ]
  },
  {
   "cell_type": "code",
   "execution_count": null,
   "metadata": {},
   "outputs": [],
   "source": [
    "#  gen\n",
    "## multiply for each resource\n",
    "gen = resource_profiles_xr * build_out\n",
    "## sum across resources\n",
    "total_gen = gen.sum(dim=\"resource\")\n",
    "\n",
    "# Meet energy need\n",
    "m.add_constraints(total_gen >= energy_needs_xr, name=\"meet_energy_need\")"
   ]
  },
  {
   "cell_type": "code",
   "execution_count": null,
   "metadata": {},
   "outputs": [],
   "source": [
    "# cost\n",
    "build_month = build_out - build_out.shift(datetime=1)\n",
    "cost = build_month * unit_cost_profiles_xr\n",
    "total_cost = cost.sum()\n",
    "total_cost"
   ]
  },
  {
   "cell_type": "code",
   "execution_count": null,
   "metadata": {},
   "outputs": [],
   "source": [
    "# objective\n",
    "m.add_objective(total_cost)\n",
    "m"
   ]
  },
  {
   "cell_type": "markdown",
   "metadata": {},
   "source": [
    "# Solve"
   ]
  },
  {
   "cell_type": "code",
   "execution_count": null,
   "metadata": {},
   "outputs": [],
   "source": [
    "m.solve()"
   ]
  },
  {
   "cell_type": "code",
   "execution_count": null,
   "metadata": {},
   "outputs": [],
   "source": [
    "sol = m.solution"
   ]
  },
  {
   "cell_type": "code",
   "execution_count": null,
   "metadata": {},
   "outputs": [],
   "source": [
    "# convert to a Pandas DataFrame for plotting\n",
    "sol_df = (\n",
    "    sol.to_dataframe()\n",
    "    .reset_index()\n",
    "    .pivot_table(values=\"build_out\", columns=\"resource\", index=\"datetime\")\n",
    ")\n",
    "sol_df.plot()\n",
    "plt.grid()\n",
    "plt.title(\"Least Cost Energy Portfolio\")"
   ]
  },
  {
   "cell_type": "markdown",
   "metadata": {},
   "source": [
    "We see that a mix a resources are the least cost way to meet the average energy need.  "
   ]
  },
  {
   "cell_type": "markdown",
   "metadata": {},
   "source": [
    "## Concusion\n",
    "Linopy's vectorized variables and constraints allow for a concise representation of an optimization problen with multiple dimensions: in this case, a timeseries with a number of potential resources.   "
   ]
  }
 ],
 "metadata": {
  "kernelspec": {
   "display_name": "qtenv",
   "language": "python",
   "name": "python3"
  },
  "language_info": {
   "codemirror_mode": {
    "name": "ipython",
    "version": 3
   },
   "file_extension": ".py",
   "mimetype": "text/x-python",
   "name": "python",
   "nbconvert_exporter": "python",
   "pygments_lexer": "ipython3",
   "version": "3.11.3"
  }
 },
 "nbformat": 4,
 "nbformat_minor": 2
}
