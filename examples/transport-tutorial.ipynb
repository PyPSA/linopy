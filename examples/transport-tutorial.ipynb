{
 "cells": [
  {
   "cell_type": "markdown",
   "metadata": {},
   "source": [
    "# The Transport Problem\n",
    "\n",
    "## Summary\n",
    "\n",
    "The goal of the Transport Problem is to select the quantities of a homogeneous good that has several production plants and several punctiform markets as to minimise the transportation costs.\n",
    "\n",
    "It is the default tutorial for the GAMS language, and GAMS equivalent code is inserted as single-dash comments. The original GAMS code needs slighly different ordering of the commands and it's available at http://www.gams.com/mccarl/trnsport.gms. The Pyomo version of the tutorial can be found at https://nbviewer.org/github/Pyomo/PyomoGallery/blob/master/transport/transport.ipynb. \n",
    "\n",
    "For comparison, the variable names have been kept the same, though they are not pythonic. The equivalent GAMS code is included at the top of each cell as comments, while the Pyomo-equivalent is stated as text comments below.\n",
    "\n",
    "## Problem Statement\n",
    "\n",
    "The Transport Problem can be formulated mathematically as a linear programming problem using the following model.  \n",
    "\n",
    "### Sets\n",
    "\n",
    " $I$ = set of canning plants  \n",
    " $J$ = set of markets\n",
    "\n",
    "### Parameters\n",
    "\n",
    " $a_i$     = capacity of plant $i$ in cases, $\\forall i \\in I$ <br />\n",
    " $b_j$     = demand at market $j$ in cases, $\\forall j \\in J$ <br />\n",
    " $d_{i,j}$ = distance in thousands of miles, $\\forall i \\in I, \\forall j \\in J$ <br />\n",
    " $f$       = freight in dollars per case per thousand miles <br />\n",
    " $c_{i,j}$ = transport cost in thousands of dollars per case\n",
    " \n",
    " $c_{i,j}$ is obtained exougenously to the optimisation problem as $c_{i,j} = f \\cdot d_{i,j}$, $\\forall i \\in I, \\forall j \\in J$\n",
    " \n",
    "### Variables\n",
    " $x_{i,j}$ = shipment quantities in cases <br />\n",
    " z         = total transportation costs in thousands of dollars\n",
    "\n",
    "### Objective\n",
    "\n",
    "Minimize the total cost of the shipments: <br />\n",
    "$\\min_{x} z = \\sum_{i \\in I} \\sum_{j \\in J} c_{i,j} x_{i,j}$\n",
    "\n",
    "### Constraints\n",
    "\n",
    "\n",
    "Observe supply limit at plant i: <br />\n",
    " $\\sum_{j \\in J} x_{i,j} \\leq a_{i}$, $\\forall i \\in I$\n",
    " \n",
    "Satisfy demand at market j: <br />\n",
    " $\\sum_{i \\in I} x_{i,j} \\geq b_{j}$, $\\forall j \\in J$\n",
    "\n",
    "Non-negative transportation quantities <br />\n",
    " $x_{i,j} \\geq 0$, $\\forall i \\in I, \\forall j \\in J$"
   ]
  },
  {
   "cell_type": "markdown",
   "metadata": {},
   "source": [
    "## Linopy Formulation"
   ]
  },
  {
   "cell_type": "markdown",
   "metadata": {},
   "source": [
    "### Creation of the Model\n",
    "\n",
    "In linopy, modeling is based on a central `model` object. While this object contains variables, constraints, expressions, and the objective function as attributes, it does not currently contain fixed data like sets and parameters. Thus, they have been defined separately. Since linopy is built heavily on xarray's data structure, using xarray for that is convenient.\n",
    "\n",
    "The first thing to do in the tutorial is to load the linopy and related libraries and create a new `model` object. We have little imagination here, and we call our model `m`. You can give it whatever name you want. However, if you give your model an other name, you also need to change all references to it throughout this tutorial."
   ]
  },
  {
   "cell_type": "code",
   "execution_count": null,
   "metadata": {
    "collapsed": true
   },
   "outputs": [],
   "source": [
    "# Import of linopy and related modules\n",
    "import xarray as xr\n",
    "\n",
    "import linopy\n",
    "\n",
    "# Creation of a Model\n",
    "m = linopy.Model()"
   ]
  },
  {
   "cell_type": "markdown",
   "metadata": {},
   "source": [
    "*Equivalent in Pyomo*\n",
    "```python\n",
    "from pyomo.environ import *\n",
    "\n",
    "model = ConcreteModel()\n",
    "```"
   ]
  },
  {
   "cell_type": "markdown",
   "metadata": {},
   "source": [
    "### Set Definitions\n",
    "\n",
    "Sets can be created as `xarray.DataArray`s, where they require data in any form that `numpy.ndarray` could work with but can be provided additional data such as the name of the array, the names of its dimensions, or coordinates. [Coordinates](https://docs.xarray.dev/en/stable/user-guide/data-structures.html#coordinates) enable accessing data based on labels and aligning data. Since we want the sets `i` and `j` to function as coordinates later on, we only specify the name of their dimension here. Due to xarray's flexibility, we can also define our coordinates as usual dictionaries, where the keys correspond to the names of the dimensions:"
   ]
  },
  {
   "cell_type": "code",
   "execution_count": null,
   "metadata": {
    "collapsed": true
   },
   "outputs": [],
   "source": [
    "## Define sets ##\n",
    "#  Sets\n",
    "#       i   canning plants   / seattle, san-diego /\n",
    "#       j   markets          / new-york, chicago, topeka / ;\n",
    "\n",
    "i = {\"Canning Plants\": [\"seattle\", \"san-diego\"]}\n",
    "j = {\"Markets\": [\"new-york\", \"chicago\", \"topeka\"]}"
   ]
  },
  {
   "cell_type": "markdown",
   "metadata": {},
   "source": [
    "*Equivalent in Pyomo*\n",
    "```python\n",
    "model.i = Set(initialize=['seattle','san-diego'], doc='Canning plans')\n",
    "model.j = Set(initialize=['new-york','chicago', 'topeka'], doc='Markets')\n",
    "```"
   ]
  },
  {
   "cell_type": "markdown",
   "metadata": {},
   "source": [
    "### Parameters\n",
    "\n",
    "Parameter objects are created as `xarray.DataArray`s and do specify over which sets they are created using coordinates. Since we set up `i` and `j` properly before, e.g. the supply `a` will automatically contain the dimension `\"Canning Plants\"` with the labels `\"seattle\"` and `\"san-diego\"` and can be accessed accordingly. This also works for multi-dimensional data such as the distance in thousands of miles `d`, where the dimension names are inferred again from the coordinates' dimension names. Note, though, that xarray would prefer explicit statements of the form `coords = [(dimension_name, data), ... ]`.\n",
    "\n",
    "For the scalar parameter `f`, we simply define an integer variable."
   ]
  },
  {
   "cell_type": "code",
   "execution_count": null,
   "metadata": {},
   "outputs": [],
   "source": [
    "## Define parameters ##\n",
    "#   Parameters\n",
    "#       a(i)  capacity of plant i in cases\n",
    "#         /    seattle     350\n",
    "#              san-diego   600  /\n",
    "#       b(j)  demand at market j in cases\n",
    "#         /    new-york    325\n",
    "#              chicago     300\n",
    "#              topeka      275  / ;\n",
    "\n",
    "#  Table d(i,j)  distance in thousands of miles\n",
    "#                    new-york       chicago      topeka\n",
    "#      seattle          2.5           1.7          1.8\n",
    "#      san-diego        2.5           1.8          1.4  ;\n",
    "\n",
    "#  Scalar f  freight in dollars per case per thousand miles  /90/ ;\n",
    "\n",
    "a = xr.DataArray([350, 600], coords=i, name=\"capacity of plant i in cases\")\n",
    "b = xr.DataArray([325, 300, 275], coords=j, name=\"demand at market j in cases\")\n",
    "\n",
    "d = xr.DataArray(\n",
    "    [[2.5, 1.7, 1.8], [2.5, 1.8, 1.4]],\n",
    "    coords=i | j,\n",
    "    name=\"distance in thousands of miles\",\n",
    ")\n",
    "\n",
    "f = 90  # Freight in dollars per case per thousand miles\n",
    "\n",
    "# Access data using e.g.:\n",
    "# a.loc[{\"Canning Plants\":\"seattle\"}]\n",
    "# d.loc[{\"Canning Plants\":\"seattle\", \"Markets\":\"new-york\"}]"
   ]
  },
  {
   "cell_type": "markdown",
   "metadata": {},
   "source": [
    "*Equivalent in Pyomo*\n",
    "```python\n",
    "model.a = Param(model.i, initialize={'seattle':350,'san-diego':600}, doc='Capacity of plant i in cases')\n",
    "model.b = Param(model.j, initialize={'new-york':325,'chicago':300,'topeka':275}, doc='Demand at market j in cases')\n",
    "\n",
    "dtab = {\n",
    "  ('seattle',  'new-york') : 2.5,\n",
    "  ('seattle',  'chicago')  : 1.7,\n",
    "  ('seattle',  'topeka')   : 1.8,\n",
    "  ('san-diego','new-york') : 2.5,\n",
    "  ('san-diego','chicago')  : 1.8,\n",
    "  ('san-diego','topeka')   : 1.4,\n",
    "  }\n",
    "model.d = Param(model.i, model.j, initialize=dtab, doc='Distance in thousands of miles')\n",
    "\n",
    "model.f = Param(initialize=90, doc='Freight in dollars per case per thousand miles')\n",
    "```"
   ]
  },
  {
   "cell_type": "markdown",
   "metadata": {},
   "source": [
    "Working with xarrays enables us to get the resulting transport cost in thousands of dollars per case much simpler than in Pyomo:"
   ]
  },
  {
   "cell_type": "code",
   "execution_count": null,
   "metadata": {
    "collapsed": true
   },
   "outputs": [],
   "source": [
    "#  Parameter c(i,j)  transport cost in thousands of dollars per case ;\n",
    "#            c(i,j) = f * d(i,j) / 1000 ;\n",
    "\n",
    "c = d * f / 1000\n",
    "c.name = \"transport cost in thousands of dollars per case\""
   ]
  },
  {
   "cell_type": "markdown",
   "metadata": {},
   "source": [
    "*Equivalent in Pyomo*\n",
    "```python\n",
    "def c_init(model, i, j):\n",
    "    return model.f * model.d[i,j] / 1000\n",
    "model.c = Param(model.i, model.j, initialize=c_init, doc='Transport cost in thousands of dollar per case')\n",
    "```"
   ]
  },
  {
   "cell_type": "markdown",
   "metadata": {},
   "source": [
    "### Variables\n",
    "\n",
    "Variables are created as `model` attributes. They get can get lower or upper bounds, a name, and the coordinates (and inferred dimensions) for which they are defined.\n",
    "\n",
    "Differently from GAMS, we do not need to define the variable that is on the left-hand side of the objective function. "
   ]
  },
  {
   "cell_type": "code",
   "execution_count": null,
   "metadata": {},
   "outputs": [],
   "source": [
    "## Define variables ##\n",
    "#  Variables\n",
    "#       x(i,j)  shipment quantities in cases\n",
    "#       z       total transportation costs in thousands of dollars ;\n",
    "#  Positive Variable x ;\n",
    "\n",
    "x = m.add_variables(lower=0.0, coords=c.coords, name=\"Shipment quantities in cases\")\n",
    "\n",
    "# Inspect the variable by simply printing it:\n",
    "# print(x)"
   ]
  },
  {
   "cell_type": "markdown",
   "metadata": {},
   "source": [
    "*Equivalent in Pyomo*\n",
    "```python\n",
    "model.x = Var(model.i, model.j, bounds=(0.0,None), doc='Shipment quantities in case')\n",
    "```"
   ]
  },
  {
   "cell_type": "markdown",
   "metadata": {},
   "source": [
    "### Constraints\n",
    "\n",
    "Constraints are also defined as `model` attributes. Before assigning them to the model, though, it is very useful to check that they take the form we desire. Here, we make use of xarray's `.sum()` functionality, for which we can specify the dimensions that should be summed over:"
   ]
  },
  {
   "cell_type": "code",
   "execution_count": null,
   "metadata": {},
   "outputs": [],
   "source": [
    "x.sum(dim=\"Markets\") <= a"
   ]
  },
  {
   "cell_type": "markdown",
   "metadata": {},
   "source": [
    "The output nicely confirms that this is indeed the constraint we want to implement, so we add it to the model:"
   ]
  },
  {
   "cell_type": "code",
   "execution_count": null,
   "metadata": {
    "collapsed": true
   },
   "outputs": [],
   "source": [
    "## Define contraints ##\n",
    "# supply(i)   observe supply limit at plant i\n",
    "# supply(i) .. sum (j, x(i,j)) =l= a(i)\n",
    "\n",
    "# demand(j)   satisfy demand at market j ;\n",
    "# demand(j) .. sum(i, x(i,j)) =g= b(j);\n",
    "\n",
    "con = x.sum(dim=\"Markets\") <= a\n",
    "con1 = m.add_constraints(con, name=\"Observe supply limit at plant i\")\n",
    "\n",
    "con = x.sum(dim=\"Canning Plants\") >= b\n",
    "con2 = m.add_constraints(con, name=\"Satisfy demand at market j\")"
   ]
  },
  {
   "cell_type": "markdown",
   "metadata": {},
   "source": [
    "*Equivalent in Pyomo*\n",
    "```python\n",
    "def supply_rule(model, i):\n",
    "    return sum(model.x[i,j] for j in model.j) <= model.a[i]\n",
    "model.supply = Constraint(model.i, rule=supply_rule, doc='Observe supply limit at plant i')\n",
    "\n",
    "def demand_rule(model, j):\n",
    "    return sum(model.x[i,j] for i in model.i) >= model.b[j]\n",
    "model.demand = Constraint(model.j, rule=demand_rule, doc='Satisfy demand at market j')\n",
    "```"
   ]
  },
  {
   "cell_type": "markdown",
   "metadata": {},
   "source": [
    "### Objective and Solving\n",
    "\n",
    "The definition of the objective is similar to those of the constraints, but the objective function is limited to a `linopy.LinearExpression`. While [new expressions](https://linopy.readthedocs.io/en/latest/creating-expressions.html) can be created, we can rely on existing functionality for the purposes of this tutorial. By defining an arithmetic operation with our `linopy.Variable`, a `linopy.LinearExpression` is automatically created. Linopy assumes only one objective function, so it automatically takes the full sum of that expression."
   ]
  },
  {
   "cell_type": "code",
   "execution_count": null,
   "metadata": {
    "collapsed": true
   },
   "outputs": [],
   "source": [
    "## Define Objective and solve ##\n",
    "#  cost        define objective function\n",
    "#  cost ..        z  =e=  sum((i,j), c(i,j)*x(i,j)) ;\n",
    "#  Model transport /all/ ;\n",
    "#  Solve transport using lp minimizing z ;\n",
    "\n",
    "obj = c * x\n",
    "m.add_objective(obj)"
   ]
  },
  {
   "cell_type": "markdown",
   "metadata": {},
   "source": [
    "*Equivalent in Pyomo*\n",
    "```python\n",
    "def objective_rule(model):\n",
    "    return sum(model.c[i,j]*model.x[i,j] for i in model.i for j in model.j)\n",
    "model.objective = Objective(rule=objective_rule, sense=minimize, doc='Define objective function')\n",
    "```"
   ]
  },
  {
   "cell_type": "markdown",
   "metadata": {},
   "source": [
    "A [range of solvers](https://linopy.readthedocs.io/en/latest/prerequisites.html#install-a-solver) can be used for linopy. You can check which solvers are available using: "
   ]
  },
  {
   "cell_type": "code",
   "execution_count": null,
   "metadata": {},
   "outputs": [],
   "source": [
    "print(linopy.available_solvers)"
   ]
  },
  {
   "cell_type": "markdown",
   "metadata": {},
   "source": [
    "In the `solve()` function, you can specify a `solver_name`. The default solver, however, will be the first from the list we printed above."
   ]
  },
  {
   "cell_type": "code",
   "execution_count": null,
   "metadata": {},
   "outputs": [],
   "source": [
    "# Solve the model\n",
    "m.solve()"
   ]
  },
  {
   "cell_type": "markdown",
   "metadata": {},
   "source": [
    "So the total costs are $153.675. We can also study the solutions for the variables added to the model:"
   ]
  },
  {
   "cell_type": "code",
   "execution_count": null,
   "metadata": {},
   "outputs": [],
   "source": [
    "## Display of the output ##\n",
    "# Display x.l, x.m ;\n",
    "\n",
    "# Display solution for variable x\n",
    "x.solution"
   ]
  },
  {
   "cell_type": "markdown",
   "metadata": {},
   "source": [
    "This way, we see that the lowest costs are obtained by sending 300 cases from the Seattle plant to the Chicago market, 325 cases from the San-Diego plant to the New-York market, and 275 cases from San-Diego to Topeka. Since the transportation costs between Seattle and New-York and San-Diego and New-York are equal, the model might also supply New-York with up to 50 cases from Seattle (which is limited to a production of 350 cases) and, consequently, as little as 275 cases from San-Diego.\n",
    "\n",
    "Note that `x.solution` is an `xarray.DataArray` again, so we can call functions like `to_dataframe()` on it to retrieve a `pandas.DataFrame`, which then provides a convenient `plot()` function. Since all of this is happening in Python, there is no shortage of ways to visualize the solution."
   ]
  },
  {
   "cell_type": "markdown",
   "metadata": {},
   "source": [
    "*Equivalent in Pyomo*\n",
    "\n",
    "The Pyomo version of this tutorial defines an auxiliary function to print the full solution to the variable `x`. Note also that `glpk` is the solver used in that tutorial, but you are free to choose a different solver.\n",
    "```python\n",
    "def pyomo_postprocess(options=None, instance=None, results=None):\n",
    "    model.x.display()\n",
    "\n",
    "from pyomo.opt import SolverFactory\n",
    "\n",
    "opt = SolverFactory(\"glpk\")\n",
    "results = opt.solve(model)\n",
    "# Sends results to stdout\n",
    "results.write()\n",
    "print(\"\\nDisplaying Solution\\n\" + '-'*60)\n",
    "pyomo_postprocess(None, model, results)\n",
    "```"
   ]
  },
  {
   "cell_type": "markdown",
   "metadata": {},
   "source": [
    "## References\n",
    "\n",
    "* Original problem formulation:\n",
    "  - Dantzig, G B, Chapter 3.3. In Linear Programming and Extensions. Princeton University Press, Princeton, New Jersey, 1963.\n",
    "* GAMS implementation:\n",
    "  - Rosenthal, R E, Chapter 2: A GAMS Tutorial. In GAMS: A User's Guide. The Scientific Press, Redwood City, California, 1988.\n",
    "* Pyomo translation: Antonello Lobianco\n",
    "* Linopy translation: Fridolin Glatter"
   ]
  }
 ],
 "metadata": {
  "kernelspec": {
   "display_name": "Python 3",
   "language": "python",
   "name": "python3"
  },
  "language_info": {
   "codemirror_mode": {
    "name": "ipython",
    "version": 3
   },
   "file_extension": ".py",
   "mimetype": "text/x-python",
   "name": "python",
   "nbconvert_exporter": "python",
   "pygments_lexer": "ipython3",
   "version": "3.10.12"
  }
 },
 "nbformat": 4,
 "nbformat_minor": 1
}
