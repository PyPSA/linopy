{
 "cells": [
  {
   "cell_type": "markdown",
   "id": "e8249281",
   "metadata": {},
   "source": [
    "# Creating Variables\n",
    "\n",
    "Variables are created and assigned to the model using the function \n",
    "\n",
    "```\n",
    "model.add_variables\n",
    "```\n",
    "where `model` is a `linopy.Model` instance. In the following we show how this function works and what the resulting variables look like. So, let's create a model and go through it!"
   ]
  },
  {
   "cell_type": "code",
   "execution_count": null,
   "id": "e0c196e4",
   "metadata": {},
   "outputs": [],
   "source": [
    "import numpy as np\n",
    "import pandas as pd\n",
    "import xarray as xr\n",
    "\n",
    "from linopy import Model\n",
    "\n",
    "m = Model()"
   ]
  },
  {
   "cell_type": "markdown",
   "id": "6c6420a7",
   "metadata": {},
   "source": [
    "First of all it is crucial to know, that the return value of the `.add_variables` function is a `linopy.Variable` which itself contains all important information and provides helpful functions. It can have an arbitrary number of labeled dimensions. For each combination of coordinates, exactly one representative scalar variable is defined and, in the end, passed to the solver. \n",
    "\n",
    "The first three arguments of the `.add_variables` function are \n",
    "1. `lower` denoting the lower bound of the variables (default `-inf`) \n",
    "2. `upper` denoting the upper bound (default `+inf`)\n",
    "3. `coords` (default None). \n",
    "\n",
    "These argument determine the shape of the added variable. \n",
    "\n",
    "Generally, the function is strongly aligned to the initialization of an `xarray.DataArray`. Therefore `lower` and `upper` can be \n",
    "\n",
    "* scalar values (int/float)\n",
    "* numpy ndarray's\n",
    "* pandas Series\n",
    "* pandas DataFrame's\n",
    "* xarray DataArray's\n",
    "\n",
    "\n",
    "Note that scalars, numpy objects and pandas objects do not have or do not require dimension names. Thus, the naming of the dimensions is done by `xarray`. Therefore you can pass the `coords` argument, or alternatively, a `dims` argument in order to name your dimensions. \n",
    "\n",
    "\n",
    ".. hint::\n",
    "   It is **best practice** to always define variables with explicit `name` and dimension names. This eases the inspection and avoids confusion from the automatically derived names."
   ]
  },
  {
   "cell_type": "markdown",
   "id": "a2283b9a",
   "metadata": {},
   "source": [
    "Let's start by creating a simple variable:\n",
    "\n",
    "If we just keep the default, which is `-inf` and `+inf` for `lower` and `upper`, the code returns"
   ]
  },
  {
   "cell_type": "code",
   "execution_count": null,
   "id": "ee589323",
   "metadata": {},
   "outputs": [],
   "source": [
    "x = m.add_variables(name=\"x\")\n",
    "x"
   ]
  },
  {
   "cell_type": "markdown",
   "id": "708920a3",
   "metadata": {},
   "source": [
    "which is a variable without any coordinates and with just one optimization variable. The variable name is set by `name = 'x'`. "
   ]
  },
  {
   "cell_type": "markdown",
   "id": "b276e45d",
   "metadata": {},
   "source": [
    "Like this the variable appears with its name when defining expression with it:"
   ]
  },
  {
   "cell_type": "code",
   "execution_count": null,
   "id": "68d7e7da",
   "metadata": {},
   "outputs": [],
   "source": [
    "x + 5"
   ]
  },
  {
   "cell_type": "markdown",
   "id": "528a7c40",
   "metadata": {},
   "source": [
    "We can alter the lower and upper bounds of the variable by assigning scalar values to them."
   ]
  },
  {
   "cell_type": "code",
   "execution_count": null,
   "id": "a1c080e0",
   "metadata": {},
   "outputs": [],
   "source": [
    "y = m.add_variables(lower=0, upper=4, name=\"y\")"
   ]
  },
  {
   "cell_type": "markdown",
   "id": "885ac764",
   "metadata": {},
   "source": [
    "### Variable Types\n",
    "\n",
    "Per default the variable type is continuous, that the variables can take any real value in between and including the lower and upper bound. In order to alter the type, you have the option to set `integer` or `binary` to `True`."
   ]
  },
  {
   "cell_type": "code",
   "execution_count": null,
   "id": "8a5d4543",
   "metadata": {},
   "outputs": [],
   "source": [
    "m.add_variables(lower=0, upper=10, integer=True)"
   ]
  },
  {
   "cell_type": "markdown",
   "id": "3af58bc4",
   "metadata": {},
   "source": [
    ".. note::\n",
    "   Since we did not set the name argument the variable name is automatically determined and set to `var0`.\n",
    "\n",
    "\n",
    "This variable `var0` can take all integer number between 0 and 10 inclusively. On the other hand, when defining a binary variable, we do not specify the lower and upper bounds and set `binary` to true."
   ]
  },
  {
   "cell_type": "code",
   "execution_count": null,
   "id": "ff64db81",
   "metadata": {},
   "outputs": [],
   "source": [
    "m.add_variables(binary=True)"
   ]
  },
  {
   "cell_type": "markdown",
   "id": "7b432107",
   "metadata": {},
   "source": [
    "### Working with dimensions\n",
    "\n",
    "When initializing dimensional variables, it is most straight-forward and recommended to create variables with `DataArray`'s which are passed to the as `lower` and/or `upper`. "
   ]
  },
  {
   "cell_type": "code",
   "execution_count": null,
   "id": "b4dfc46d",
   "metadata": {},
   "outputs": [],
   "source": [
    "lower = xr.DataArray([1, 2, 3])\n",
    "v = m.add_variables(lower, name=\"v\")\n",
    "v"
   ]
  },
  {
   "cell_type": "markdown",
   "id": "1ff347f9",
   "metadata": {},
   "source": [
    "The returned `Variable` now has the same shape as the `lower` bound that we passed to the initialization. Since we did not specify any dimension name, it defaults to `dim_0`. In order to give the dimension a proper name we can use the `dims` argument. "
   ]
  },
  {
   "cell_type": "code",
   "execution_count": null,
   "id": "f93e5c08",
   "metadata": {},
   "outputs": [],
   "source": [
    "lower = xr.DataArray([1, 2, 3], dims=[\"my-dim\"])\n",
    "m.add_variables(lower)"
   ]
  },
  {
   "cell_type": "markdown",
   "id": "d4b20bb5",
   "metadata": {},
   "source": [
    "You can arbitrarily broadcast dimensions when passing DataArray's with different set of dimensions. Let's do it and give `lower` another dimension than `upper`:"
   ]
  },
  {
   "cell_type": "code",
   "execution_count": null,
   "id": "71584630",
   "metadata": {},
   "outputs": [],
   "source": [
    "lower = xr.DataArray([1, 2, 3], dims=[\"my-dim\"])\n",
    "upper = xr.DataArray([10, 11, 12, 13], dims=[\"my-dim-2\"])\n",
    "m.add_variables(lower, upper)"
   ]
  },
  {
   "cell_type": "markdown",
   "id": "3e4e48c0",
   "metadata": {},
   "source": [
    "Now instead of a single dimension, we end up with two dimensions `my-dim` and `my-dim-2` in the variable. This kind of **broadcasting** is a deeply incorporated in the functionality of linopy. "
   ]
  },
  {
   "cell_type": "markdown",
   "id": "41893f11",
   "metadata": {},
   "source": [
    "We recall that, in order to improve the inspection, it is encouraged to define a `name` when creating a variable. So in your model you would rather write something like:"
   ]
  },
  {
   "cell_type": "code",
   "execution_count": null,
   "id": "e8857233",
   "metadata": {},
   "outputs": [],
   "source": [
    "lower = xr.DataArray([1, 2, 3], dims=[\"time\"])\n",
    "upper = xr.DataArray([10, 11, 12, 13], dims=[\"station\"])\n",
    "m.add_variables(lower, upper, name=\"supply\")"
   ]
  },
  {
   "cell_type": "markdown",
   "id": "437cc7a1",
   "metadata": {},
   "source": [
    "#### Initializing variables with numpy arrays\n",
    "\n",
    "If `lower` and `upper` are numpy arrays, `linopy` it is recommended to pass a `dims` or a `coords` argument."
   ]
  },
  {
   "cell_type": "code",
   "execution_count": null,
   "id": "0fe33c34",
   "metadata": {
    "scrolled": true
   },
   "outputs": [],
   "source": [
    "lower = np.array([1, 2])\n",
    "upper = np.array([10, 10])\n",
    "m.add_variables(lower, upper, dims=[\"my-dim\"])"
   ]
  },
  {
   "cell_type": "markdown",
   "id": "2ab6d301",
   "metadata": {},
   "source": [
    "This is equivalent to the following"
   ]
  },
  {
   "cell_type": "code",
   "execution_count": null,
   "id": "b8313ce0",
   "metadata": {},
   "outputs": [],
   "source": [
    "my_dim = pd.RangeIndex(2, name=\"my-dim\")\n",
    "lower = np.array([1, 2])\n",
    "upper = np.array([10, 10])\n",
    "m.add_variables(lower, upper, coords=[my_dim])"
   ]
  },
  {
   "cell_type": "markdown",
   "id": "5052b9b5",
   "metadata": {},
   "source": [
    "Note that \n",
    "\n",
    "- `dims` is a list of string defining the dimension names. \n",
    "   \n",
    "- `coords` is an tuple of indexes as expected by `xarray.DataArray`. \n",
    "   \n",
    "- The shape of `lower` and `upper` is aligned with `coords`.\n",
    "   \n",
    "- When defining the index for the coords, a name was set in the index creation. This is helpful as we can ensure which dimension the variable is defined on. \n",
    "\n",
    "Let's make the same example without setting an explicit dimension name:"
   ]
  },
  {
   "cell_type": "code",
   "execution_count": null,
   "id": "5f0994da",
   "metadata": {},
   "outputs": [],
   "source": [
    "coords = (pd.RangeIndex(2),)\n",
    "m.add_variables(lower=lower, coords=coords)"
   ]
  },
  {
   "cell_type": "markdown",
   "id": "dff8126d",
   "metadata": {},
   "source": [
    "The dimension is now called `dim_0`, any new assignment of variable without dimension names, will also use that dimension name. When combining the variables to expressions it is important that you make sure that dimension names represent what they should. \n",
    "\n",
    ".. hint::\n",
    "  If you want to make sure, you are not messing up with dimensions, create the model with the flag `force_dim_names = True`, i.e."
   ]
  },
  {
   "cell_type": "code",
   "execution_count": null,
   "id": "d133a7a4",
   "metadata": {},
   "outputs": [],
   "source": [
    "other = Model(force_dim_names=True)\n",
    "try:\n",
    "    other.add_variables(lower=lower, coords=coords)\n",
    "except ValueError as e:\n",
    "    print(\"This raised an error:\", e)"
   ]
  },
  {
   "cell_type": "markdown",
   "id": "9203ff16",
   "metadata": {},
   "source": [
    "#### Initializing variables with Pandas objects\n",
    "\n",
    "Pandas objects always have indexes but do not require dimension names. It is again helpful to ensure that the variable have explicit dimension names, when passing `lower` and `upper` without `coords`. This can be done by either passing the `dims` argument to the `.add_variables` function, i.e."
   ]
  },
  {
   "cell_type": "code",
   "execution_count": null,
   "id": "2cf719be",
   "metadata": {},
   "outputs": [],
   "source": [
    "lower = pd.Series([1, 1])\n",
    "upper = pd.Series([10, 12])\n",
    "m.add_variables(lower, upper, dims=[\"my-dim\"])"
   ]
  },
  {
   "cell_type": "markdown",
   "id": "3a4cf2d4",
   "metadata": {},
   "source": [
    "or naming the indexes and columns of the pandas objects directly, e.g."
   ]
  },
  {
   "cell_type": "code",
   "execution_count": null,
   "id": "61896a6f",
   "metadata": {},
   "outputs": [],
   "source": [
    "lower = pd.Series([1, 1]).rename_axis(\"my-dim\")\n",
    "upper = pd.Series([10, 12]).rename_axis(\"my-dim\")\n",
    "m.add_variables(lower, upper)"
   ]
  },
  {
   "cell_type": "markdown",
   "id": "2b462ff9",
   "metadata": {},
   "source": [
    ".. note::\n",
    "   Again, if `lower` and `upper` do not have the same dimension names, the arrays are broadcasted, meaning the dimensions are spanned: "
   ]
  },
  {
   "cell_type": "code",
   "execution_count": null,
   "id": "6ffd5a4e",
   "metadata": {
    "scrolled": true
   },
   "outputs": [],
   "source": [
    "lower = pd.Series([1, 1]).rename_axis(\"my-dim\")\n",
    "upper = pd.Series([10, 12]).rename_axis(\"my-other-dim\")\n",
    "m.add_variables(lower, upper)"
   ]
  },
  {
   "cell_type": "markdown",
   "id": "31bbdbab",
   "metadata": {},
   "source": [
    "Now instead of 2 variables, 4 variables were defined.  \n",
    "\n",
    "The similar bahvior accounts for the case when passing a DataFrame and a Series without dimension names. The index axis is the first axis of both objects, thus these are expected to be the same (Note that pandas convention, is that Series are aligned and broadcasted along the column dimension of DataFrames):  "
   ]
  },
  {
   "cell_type": "code",
   "execution_count": null,
   "id": "fa2adc81",
   "metadata": {},
   "outputs": [],
   "source": [
    "lower = pd.DataFrame([[1, 1, 2], [1, 2, 2]])\n",
    "upper = pd.Series([10, 12])\n",
    "m.add_variables(lower, upper)"
   ]
  },
  {
   "cell_type": "markdown",
   "id": "8b1734df",
   "metadata": {},
   "source": [
    "Again, one is always safer when explicitly naming the dimensions:"
   ]
  },
  {
   "cell_type": "code",
   "execution_count": null,
   "id": "21f7db15",
   "metadata": {},
   "outputs": [],
   "source": [
    "lower = lower.rename_axis(index=\"my-dim\", columns=\"my-other-dim\")\n",
    "upper = upper.rename_axis(\"my-dim\")\n",
    "m.add_variables(lower, upper)"
   ]
  },
  {
   "cell_type": "markdown",
   "id": "77e264e2",
   "metadata": {},
   "source": [
    ".. important::\n",
    "\n",
    "    **New in version 0.3.6**\n",
    "\n",
    "    As pandas objects always have indexes, the `coords` argument is not required and is ignored is passed. Before, it was used to overwrite the indexes of the pandas objects. A warning is raised if `coords` is passed and if these are not aligned with the pandas object. "
   ]
  },
  {
   "cell_type": "code",
   "execution_count": null,
   "id": "d0fc67cf",
   "metadata": {},
   "outputs": [],
   "source": [
    "unaligned_coords = pd.Index([1, 2]), pd.Index([2, 3, 4])\n",
    "m.add_variables(lower, upper, coords=unaligned_coords)"
   ]
  },
  {
   "cell_type": "markdown",
   "id": "49de1cc3",
   "metadata": {},
   "source": [
    "### Masking Arrays\n",
    "\n",
    "In some cases, you want to create a variable with given dimensions, but not all parts should be active. \n",
    "\n",
    "For example, think about an set of ports between which goods can be transported. However, a port cannot transport goods to itself. For such a case, you would create an variable `transport` which has the dimension (`from`, `to`) with values on the diagonal disabled.  \n",
    "\n",
    "Therefore, you can pass a `mask` argument which has `False` values on the diagonal and `True` elsewhere."
   ]
  },
  {
   "cell_type": "code",
   "execution_count": null,
   "id": "9d802903",
   "metadata": {},
   "outputs": [],
   "source": [
    "ports = list(\"abcdef\")\n",
    "port_from = pd.Index(ports, name=\"from\")\n",
    "port_to = pd.Index(ports, name=\"to\")\n",
    "\n",
    "mask = np.ones((len(ports), len(ports)), dtype=bool)\n",
    "np.fill_diagonal(mask, False)\n",
    "mask"
   ]
  },
  {
   "cell_type": "code",
   "execution_count": null,
   "id": "447d8a8a",
   "metadata": {},
   "outputs": [],
   "source": [
    "transport = m.add_variables(\n",
    "    lower=0, coords=[port_from, port_to], name=\"transport\", mask=mask\n",
    ")\n",
    "transport"
   ]
  },
  {
   "cell_type": "markdown",
   "id": "df1c551c",
   "metadata": {},
   "source": [
    "Now the diagonal values, for example at the variable at [a,a], are `None`. "
   ]
  },
  {
   "cell_type": "markdown",
   "id": "23a040d4",
   "metadata": {},
   "source": [
    "### Accessing assigned variables\n",
    "\n",
    "All variables added to the model are stored in the `.variables` container."
   ]
  },
  {
   "cell_type": "code",
   "execution_count": null,
   "id": "2946a80c",
   "metadata": {},
   "outputs": [],
   "source": [
    "m.variables"
   ]
  },
  {
   "cell_type": "markdown",
   "id": "45cf0755",
   "metadata": {},
   "source": [
    "You can always access the variables from the `.variables` container either by get-item, i.e."
   ]
  },
  {
   "cell_type": "code",
   "execution_count": null,
   "id": "d974727d",
   "metadata": {},
   "outputs": [],
   "source": [
    "m.variables[\"x\"]"
   ]
  },
  {
   "cell_type": "markdown",
   "id": "03182836",
   "metadata": {},
   "source": [
    "or by attribute accessing"
   ]
  },
  {
   "cell_type": "code",
   "execution_count": null,
   "id": "308b879a",
   "metadata": {},
   "outputs": [],
   "source": [
    "m.variables.x"
   ]
  }
 ],
 "metadata": {
  "@webio": {
   "lastCommId": null,
   "lastKernelId": null
  },
  "kernelspec": {
   "display_name": "Python 3",
   "language": "python",
   "name": "python3"
  },
  "language_info": {
   "codemirror_mode": {
    "name": "ipython",
    "version": 3
   },
   "file_extension": ".py",
   "mimetype": "text/x-python",
   "name": "python",
   "nbconvert_exporter": "python",
   "pygments_lexer": "ipython3",
   "version": "3.11.3"
  }
 },
 "nbformat": 4,
 "nbformat_minor": 5
}
