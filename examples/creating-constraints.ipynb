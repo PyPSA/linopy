{
 "cells": [
  {
   "cell_type": "markdown",
   "id": "e8249281",
   "metadata": {},
   "source": [
    "# Creating Constraints\n",
    "\n",
    "Constraints are created and at the same time assigned to the model using the function \n",
    "\n",
    "```\n",
    "model.add_constraints\n",
    "```\n",
    "where `model` is a `linopy.Model` instance. Again, we want to understand this function and its argument. So, let's create a model first."
   ]
  },
  {
   "cell_type": "code",
   "execution_count": null,
   "id": "e0c196e4",
   "metadata": {},
   "outputs": [],
   "source": [
    "from linopy import Model\n",
    "\n",
    "m = Model()"
   ]
  },
  {
   "cell_type": "markdown",
   "id": "043c0b06",
   "metadata": {},
   "source": [
    "Given a variable `x` which has to by lower than 10/3, the constraint would be formulated as \n",
    "\n",
    "$$ x \\le \\frac{10}{3} $$\n",
    "\n",
    "or\n",
    "\n",
    "$$ 3 x \\le 10 $$\n",
    " \n",
    "or \n",
    "\n",
    "$$ x - \\frac{3}{10} \\le 0 $$\n",
    "\n",
    "\n",
    "of which all formulations can be written out with linopy just like that. "
   ]
  },
  {
   "cell_type": "code",
   "execution_count": null,
   "id": "6b496b92",
   "metadata": {},
   "outputs": [],
   "source": [
    "x = m.add_variables(name=\"x\")"
   ]
  },
  {
   "cell_type": "markdown",
   "id": "73541c03",
   "metadata": {},
   "source": [
    "When applying one of the operators `<=`, `>=`, `==` to the expression, an unassigned constraint is built:"
   ]
  },
  {
   "cell_type": "code",
   "execution_count": null,
   "id": "4c8aba7e",
   "metadata": {},
   "outputs": [],
   "source": [
    "con = 3 * x <= 10\n",
    "con"
   ]
  },
  {
   "cell_type": "markdown",
   "id": "0d75781d",
   "metadata": {},
   "source": [
    "Unasssigned means, it is not yet added to the model. We can inspect the elements of the anonymous constraint: "
   ]
  },
  {
   "cell_type": "code",
   "execution_count": null,
   "id": "01f182b5",
   "metadata": {},
   "outputs": [],
   "source": [
    "con.lhs"
   ]
  },
  {
   "cell_type": "code",
   "execution_count": null,
   "id": "783287b3",
   "metadata": {},
   "outputs": [],
   "source": [
    "con.rhs"
   ]
  },
  {
   "cell_type": "markdown",
   "id": "aac468c3",
   "metadata": {},
   "source": [
    "We can now add the constraint to the model by passing the unassigned `Constraint` to the `.add_constraint` function. "
   ]
  },
  {
   "cell_type": "code",
   "execution_count": null,
   "id": "0adf929b",
   "metadata": {},
   "outputs": [],
   "source": [
    "c = m.add_constraints(con, name=\"my-constraint\")\n",
    "c"
   ]
  },
  {
   "cell_type": "markdown",
   "id": "e78c2635",
   "metadata": {},
   "source": [
    "The same output would be generated if passing lhs, sign and rhs as separate arguments to the function:"
   ]
  },
  {
   "cell_type": "code",
   "execution_count": null,
   "id": "c084adec",
   "metadata": {},
   "outputs": [],
   "source": [
    "m.add_constraints(3 * x <= 10, name=\"the-same-constraint\")"
   ]
  },
  {
   "cell_type": "markdown",
   "id": "2b4db4d5",
   "metadata": {},
   "source": [
    "Note that the return value of the operation is a `Constraint` which contains the reference labels to the constraints in the optimization model. Also is redirects to its lhs, sign and rhs, for example we can call"
   ]
  },
  {
   "cell_type": "code",
   "execution_count": null,
   "id": "ea6e990c",
   "metadata": {},
   "outputs": [],
   "source": [
    "c.lhs"
   ]
  },
  {
   "cell_type": "markdown",
   "id": "e6ae2a19",
   "metadata": {},
   "source": [
    "to inspect the lhs of a defined constraint."
   ]
  },
  {
   "cell_type": "markdown",
   "id": "efb74da3",
   "metadata": {},
   "source": [
    "When moving the constant value to the left hand side in the initialization, it will be pulled to the right hand side as soon as the constraint is defined"
   ]
  },
  {
   "cell_type": "code",
   "execution_count": null,
   "id": "e582051e",
   "metadata": {},
   "outputs": [],
   "source": [
    "3 * x - 10"
   ]
  },
  {
   "cell_type": "code",
   "execution_count": null,
   "id": "e2c2dbb3",
   "metadata": {},
   "outputs": [],
   "source": [
    "3 * x - 10 <= 0"
   ]
  },
  {
   "cell_type": "markdown",
   "id": "15909055",
   "metadata": {},
   "source": [
    "Like this, the all defined constraints have a clear separation between variable on the left, and constants on the right. "
   ]
  },
  {
   "cell_type": "markdown",
   "id": "b9d31509",
   "metadata": {},
   "source": [
    "All constraints are added to the `.constraints` container from where all assigned constraints can be accessed."
   ]
  },
  {
   "cell_type": "code",
   "execution_count": null,
   "id": "d205e695",
   "metadata": {},
   "outputs": [],
   "source": [
    "m.constraints"
   ]
  },
  {
   "cell_type": "code",
   "execution_count": null,
   "id": "cc5baaf4",
   "metadata": {},
   "outputs": [],
   "source": [
    "m.constraints[\"my-constraint\"]"
   ]
  }
 ],
 "metadata": {
  "@webio": {
   "lastCommId": null,
   "lastKernelId": null
  },
  "kernelspec": {
   "display_name": "Python 3",
   "language": "python",
   "name": "python3"
  },
  "language_info": {
   "codemirror_mode": {
    "name": "ipython",
    "version": 3
   },
   "file_extension": ".py",
   "mimetype": "text/x-python",
   "name": "python",
   "nbconvert_exporter": "python",
   "pygments_lexer": "ipython3",
   "version": "3.11.3"
  }
 },
 "nbformat": 4,
 "nbformat_minor": 5
}
