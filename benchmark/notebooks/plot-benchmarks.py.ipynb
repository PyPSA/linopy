{
 "cells": [
  {
   "cell_type": "code",
   "execution_count": null,
   "id": "9a85db47",
   "metadata": {},
   "outputs": [],
   "source": [
    "import matplotlib.pyplot as plt\n",
    "import pandas as pd\n",
    "import seaborn as sns\n",
    "\n",
    "sns.set_theme(\"paper\", \"white\")\n",
    "# plt.rc('text', usetex=True)\n",
    "# plt.rc('font', family='sans-serif')"
   ]
  },
  {
   "cell_type": "code",
   "execution_count": null,
   "id": "709bdf49",
   "metadata": {},
   "outputs": [],
   "source": [
    "data = pd.read_csv(snakemake.input[0], index_col=0)\n",
    "cols = [\"Time\", \"Memory\"]\n",
    "df = data.melt(id_vars=data.columns.drop(cols), value_vars=cols, var_name=\"kind\")"
   ]
  },
  {
   "cell_type": "code",
   "execution_count": null,
   "id": "f36897fb",
   "metadata": {},
   "outputs": [],
   "source": [
    "if snakemake.wildcards[\"kind\"] == \"overhead\":\n",
    "    labels = [\"Overhead time (s)\", \"Overhead memory (MB)\"]\n",
    "else:\n",
    "    labels = [\"Time (s)\", \"Memory (MB)\"]\n",
    "\n",
    "g = sns.FacetGrid(data=df, row=\"kind\", sharey=False, height=2.0, aspect=2)\n",
    "g.map_dataframe(\n",
    "    sns.lineplot,\n",
    "    x=\"Number of Variables\",\n",
    "    y=\"value\",\n",
    "    hue=\"API\",\n",
    "    style=\"API\",\n",
    "    marker=\".\",\n",
    "    legend=\"full\",\n",
    "    zorder=8,\n",
    ")\n",
    "for ax, label in zip(g.axes.ravel(), labels):\n",
    "    ax.set_ylabel(label)\n",
    "    ax.set_title(\"\")\n",
    "    ax.grid(axis=\"y\", lw=0.2, color=\"grey\", zorder=3, alpha=0.4)\n",
    "g.fig.tight_layout()\n",
    "g.add_legend()\n",
    "g.fig.savefig(\n",
    "    snakemake.output.time_memory, bbox_inches=\"tight\", pad_inches=0.1, dpi=300\n",
    ")"
   ]
  },
  {
   "cell_type": "code",
   "execution_count": null,
   "id": "c5c93666",
   "metadata": {},
   "outputs": [],
   "source": [
    "if snakemake.wildcards[\"kind\"] == \"overhead\":\n",
    "    label = \"Computational overhead [MBs]\"\n",
    "else:\n",
    "    label = \"Computational resource [MBs]\"\n",
    "\n",
    "df = data.assign(Resource=data[\"Time\"] * data[\"Memory\"])\n",
    "cols = [\"Resource\"]\n",
    "df = df.melt(id_vars=df.columns.drop(cols), value_vars=cols, var_name=\"kind\")\n",
    "\n",
    "fig, ax = plt.subplots(figsize=(6, 3))\n",
    "sns.lineplot(\n",
    "    data=df,\n",
    "    x=\"Number of Variables\",\n",
    "    y=\"value\",\n",
    "    hue=\"API\",\n",
    "    style=\"API\",\n",
    "    marker=\".\",\n",
    "    legend=\"full\",\n",
    "    zorder=8,\n",
    ")\n",
    "sns.despine()\n",
    "ax.set_ylabel(label)\n",
    "ax.set_title(\"\")\n",
    "plt.ticklabel_format(axis=\"both\", style=\"sci\", scilimits=(3, 3))\n",
    "ax.grid(axis=\"y\", lw=0.2, color=\"grey\", zorder=3, alpha=0.4)\n",
    "fig.tight_layout()\n",
    "fig.savefig(snakemake.output.resource, bbox_inches=\"tight\", pad_inches=0.1, dpi=300)"
   ]
  }
 ],
 "metadata": {
  "kernelspec": {
   "display_name": "Python 3",
   "language": "python",
   "name": "python3"
  },
  "language_info": {
   "codemirror_mode": {
    "name": "ipython",
    "version": 3
   },
   "file_extension": ".py",
   "mimetype": "text/x-python",
   "name": "python",
   "nbconvert_exporter": "python",
   "pygments_lexer": "ipython3",
   "version": "3.10.9 | packaged by conda-forge | (main, Feb  2 2023, 20:20:04) [GCC 11.3.0]"
  },
  "vscode": {
   "interpreter": {
    "hash": "ed88634a96f0f44ddf87d723a7b512fbeabb17521926a161ee96c50fffea2b11"
   }
  }
 },
 "nbformat": 4,
 "nbformat_minor": 5
}
